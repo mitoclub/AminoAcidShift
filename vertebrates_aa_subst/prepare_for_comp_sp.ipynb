{
 "cells": [
  {
   "cell_type": "code",
   "execution_count": 1,
   "metadata": {},
   "outputs": [],
   "source": [
    "from collections import Counter\n",
    "from Bio import SeqIO\n",
    "import matplotlib.pyplot as plt\n",
    "import random\n",
    "import pandas as pd"
   ]
  },
  {
   "cell_type": "code",
   "execution_count": 2,
   "metadata": {},
   "outputs": [],
   "source": [
    "used_classes = {\n",
    "    'Actinopteri_186623',\n",
    "    'Aves_8782',\n",
    "    'Mammalia_40674',\n",
    "    'Lepidosauria_8504',\n",
    "    'Amphibia_8292',\n",
    "    'Chondrichthyes_7777',\n",
    "}"
   ]
  },
  {
   "cell_type": "code",
   "execution_count": 3,
   "metadata": {},
   "outputs": [
    {
     "data": {
      "image/png": "[encoded data removed]",
      "text/plain": [
       "<Figure size 640x480 with 1 Axes>"
      ]
     },
     "metadata": {},
     "output_type": "display_data"
    }
   ],
   "source": [
    "cytb_longest = SeqIO.parse('./vert_data/MIDORI2_LONGEST_NUC_GB264_Cytb_BLAST.fasta', 'fasta')\n",
    "human_size = 1140\n",
    "shift = 5\n",
    "sizes = []\n",
    "classes = []\n",
    "verts = []\n",
    "for rec in cytb_longest:\n",
    "    if 'Chordata_7711' in rec.name:\n",
    "        classes.append(rec.name.split(';')[3])\n",
    "        sizes.append(len(rec))\n",
    "        if human_size-shift < len(rec) < human_size+shift and rec.name.split(';')[3] in used_classes:\n",
    "            verts.append(rec)\n",
    "plt.hist([x for x in sizes if x > 1000], bins=100)\n",
    "plt.vlines([human_size-shift, human_size+shift], 0, 10000, 'r', '--')\n",
    "random.shuffle(verts)"
   ]
  },
  {
   "cell_type": "code",
   "execution_count": 4,
   "metadata": {},
   "outputs": [
    {
     "data": {
      "text/plain": [
       "Counter({'Actinopteri_186623': 13355,\n",
       "         'Aves_8782': 7282,\n",
       "         'Mammalia_40674': 5199,\n",
       "         'Lepidosauria_8504': 4615,\n",
       "         'Amphibia_8292': 3265,\n",
       "         'Chondrichthyes_7777': 407,\n",
       "         'class_Testudines_8459': 355,\n",
       "         'Ascidiacea_7713': 52,\n",
       "         'Hyperoartia_117569': 45,\n",
       "         'class_Crocodylia_1294634': 27,\n",
       "         'Cladistia_1338366': 12,\n",
       "         'Leptocardii_2682552': 8,\n",
       "         'Thaliacea_30304': 7,\n",
       "         'Myxini_117565': 6,\n",
       "         'class_Ceratodontiformes_2823314': 4,\n",
       "         'class_Coelacanthiformes_7894': 2})"
      ]
     },
     "execution_count": 4,
     "metadata": {},
     "output_type": "execute_result"
    }
   ],
   "source": [
    "Counter(classes)"
   ]
  },
  {
   "cell_type": "code",
   "execution_count": 5,
   "metadata": {},
   "outputs": [
    {
     "data": {
      "text/plain": [
       "(34641, 16078)"
      ]
     },
     "execution_count": 5,
     "metadata": {},
     "output_type": "execute_result"
    }
   ],
   "source": [
    "len(sizes), len(verts)"
   ]
  },
  {
   "cell_type": "code",
   "execution_count": 21,
   "metadata": {},
   "outputs": [
    {
     "data": {
      "text/plain": [
       "[SeqRecord(seq=Seq('ATTGTTATGTTTCGTAAAAATGAACTTGTTAGTCTTTTTTTAAGATCATTTAGT...GAT'), id='OUTGRP|HG931923.1.7035.8148###root_1;Eukaryota_2759;Chordata_7711;Ascidiacea_7713;Stolidobranchia_7720;Styelidae_7721;Botryllus_30300;Botryllus_schlosseri_30301', name='HG931923.1.7035.8148###root_1;Eukaryota_2759;Chordata_7711;Ascidiacea_7713;Stolidobranchia_7720;Styelidae_7721;Botryllus_30300;Botryllus_schlosseri_30301', description='HG931923.1.7035.8148###root_1;Eukaryota_2759;Chordata_7711;Ascidiacea_7713;Stolidobranchia_7720;Styelidae_7721;Botryllus_30300;Botryllus_schlosseri_30301', dbxrefs=[])]"
      ]
     },
     "execution_count": 21,
     "metadata": {},
     "output_type": "execute_result"
    },
    {
     "data": {
      "image/png": "[encoded data removed]",
      "text/plain": [
       "<Figure size 640x480 with 1 Axes>"
      ]
     },
     "metadata": {},
     "output_type": "display_data"
    }
   ],
   "source": [
    "# derive outgrp\n",
    "cytb_longest = SeqIO.parse('./vert_data/MIDORI2_LONGEST_NUC_GB264_Cytb_BLAST.fasta', 'fasta')\n",
    "human_size = 1140\n",
    "shift = 30\n",
    "outgrp = []\n",
    "sizes = []\n",
    "for rec in cytb_longest:\n",
    "    if 'Ascidiacea_7713' in rec.name and len(rec) > 1000:\n",
    "        sizes.append(len(rec))\n",
    "        if human_size-shift < len(rec) < human_size+shift and rec.name.split(';')[3]:\n",
    "            outgrp.append(rec)\n",
    "            break\n",
    "plt.hist(sizes)\n",
    "plt.title('Potential OUTGRP seq sizes')\n",
    "outgrp[0].id = 'OUTGRP|' + outgrp[0].id\n",
    "outgrp"
   ]
  },
  {
   "cell_type": "code",
   "execution_count": null,
   "metadata": {},
   "outputs": [
    {
     "data": {
      "text/plain": [
       "2001"
      ]
     },
     "execution_count": 7,
     "metadata": {},
     "output_type": "execute_result"
    }
   ],
   "source": [
    "SeqIO.write(outgrp + verts[:5000], 'vert_data/chordates5k.fa', 'fasta-2line')"
   ]
  },
  {
   "cell_type": "code",
   "execution_count": 8,
   "metadata": {},
   "outputs": [
    {
     "data": {
      "text/plain": [
       "Counter({'T': 517, 'A': 279, 'G': 176, 'C': 142})"
      ]
     },
     "execution_count": 8,
     "metadata": {},
     "output_type": "execute_result"
    }
   ],
   "source": [
    "Counter(outgrp[0].seq)"
   ]
  },
  {
   "cell_type": "markdown",
   "metadata": {},
   "source": [
    "## taxa distribution approach"
   ]
  },
  {
   "cell_type": "code",
   "execution_count": 7,
   "metadata": {},
   "outputs": [
    {
     "data": {
      "application/vnd.microsoft.datawrangler.viewer.v0+json": {
       "columns": [
        {
         "name": "index",
         "rawType": "int64",
         "type": "integer"
        },
        {
         "name": "3",
         "rawType": "object",
         "type": "string"
        },
        {
         "name": "4",
         "rawType": "object",
         "type": "string"
        },
        {
         "name": "5",
         "rawType": "object",
         "type": "string"
        },
        {
         "name": "6",
         "rawType": "object",
         "type": "string"
        },
        {
         "name": "7",
         "rawType": "object",
         "type": "string"
        }
       ],
       "conversionMethod": "pd.DataFrame",
       "ref": "09f88482-cb09-4560-93be-1e4634724de8",
       "rows": [
        [
         "0",
         "Actinopteri_186623",
         "Beloniformes_76071",
         "Exocoetidae_76072",
         "Cheilopogon_293908",
         "Cheilopogon_exsiliens_938381"
        ],
        [
         "1",
         "Mammalia_40674",
         "Chiroptera_9397",
         "Phyllostomidae_9415",
         "Artibeus_9416",
         "Artibeus_inopinatus_51013"
        ],
        [
         "2",
         "Mammalia_40674",
         "Rodentia_9989",
         "Muridae_10066",
         "Mus_10088",
         "Mus_haussa_273922"
        ],
        [
         "3",
         "Actinopteri_186623",
         "Perciformes_8111",
         "Percidae_8165",
         "Etheostoma_54318",
         "Etheostoma_pseudovulatum_91963"
        ],
        [
         "4",
         "Aves_8782",
         "Passeriformes_9126",
         "Fringillidae_9133",
         "Carpodacus_30426",
         "Carpodacus_thura_64796"
        ],
        [
         "5",
         "Mammalia_40674",
         "Primates_9443",
         "Cercopithecidae_9527",
         "Piliocolobus_591932",
         "Piliocolobus_badius_164648"
        ],
        [
         "6",
         "Mammalia_40674",
         "Chiroptera_9397",
         "Phyllostomidae_9415",
         "Brachyphylla_9420",
         "Brachyphylla_cavernarum_9421"
        ],
        [
         "7",
         "Actinopteri_186623",
         "Cypriniformes_7952",
         "Xenocyprididae_2743745",
         "Ancherythroculter_263418",
         "Ancherythroculter_lini_1698368"
        ],
        [
         "8",
         "Aves_8782",
         "Passeriformes_9126",
         "Paridae_9153",
         "Sittiparus_1356396",
         "Sittiparus_castaneoventris_245566"
        ],
        [
         "9",
         "Aves_8782",
         "Passeriformes_9126",
         "Icteridae_164646",
         "Quiscalus_64277",
         "Quiscalus_palustris_643687"
        ],
        [
         "10",
         "Actinopteri_186623",
         "Cypriniformes_7952",
         "Nemacheilidae_278171",
         "Yunnanilus_241470",
         "Yunnanilus_jinxiensis_2291021"
        ],
        [
         "11",
         "Actinopteri_186623",
         "Siluriformes_7995",
         "Pangasiidae_7999",
         "Pangasius_8000",
         "Pangasius_mekongensis_1769047"
        ],
        [
         "12",
         "Lepidosauria_8504",
         "Squamata_8509",
         "Lacertidae_8522",
         "Phoenicolacerta_575495",
         "Phoenicolacerta_cyanisparsa_575496"
        ],
        [
         "13",
         "Mammalia_40674",
         "Artiodactyla_91561",
         "Delphinidae_9726",
         "Cephalorhynchus_27607",
         "Cephalorhynchus_heavisidii_103583"
        ],
        [
         "14",
         "Aves_8782",
         "Procellariiformes_30449",
         "Procellariidae_30451",
         "Pachyptila_37058",
         "Pachyptila_salvini_79636"
        ],
        [
         "15",
         "Actinopteri_186623",
         "order_Pomacanthidae_30862",
         "Pomacanthidae_30862",
         "Pomacanthus_51797",
         "Pomacanthus_xanthometopon_109715"
        ],
        [
         "16",
         "Mammalia_40674",
         "Primates_9443",
         "Aotidae_376918",
         "Aotus_9504",
         "Aotus_trivirgatus_9505"
        ],
        [
         "17",
         "Actinopteri_186623",
         "Gobiiformes_1489878",
         "Gobiidae_8220",
         "Glossogobius_150297",
         "Glossogobius_aureus_443695"
        ],
        [
         "18",
         "Mammalia_40674",
         "Artiodactyla_91561",
         "Giraffidae_9892",
         "Okapia_86972",
         "Okapia_johnstoni_86973"
        ],
        [
         "19",
         "Aves_8782",
         "Charadriiformes_8906",
         "Laridae_8910",
         "Gelochelidon_126864",
         "Gelochelidon_nilotica_126865"
        ],
        [
         "20",
         "Aves_8782",
         "Psittaciformes_9223",
         "Psittacidae_9224",
         "Pionus_13213",
         "Pionus_senilis_30456"
        ],
        [
         "21",
         "Mammalia_40674",
         "Rodentia_9989",
         "Sciuridae_55153",
         "Microsciurus_45476",
         "Microsciurus_sabanillae_2749094"
        ],
        [
         "22",
         "Actinopteri_186623",
         "order_Siganidae_75382",
         "Siganidae_75382",
         "Siganus_75041",
         "Siganus_virgatus_225759"
        ],
        [
         "23",
         "Actinopteri_186623",
         "Scombriformes_1489894",
         "Nomeidae_215399",
         "Psenes_316140",
         "Psenes_pellucidus_316144"
        ],
        [
         "24",
         "Actinopteri_186623",
         "Labriformes_1489928",
         "Labridae_8247",
         "Thalassoma_76337",
         "Thalassoma_jansenii_239046"
        ],
        [
         "25",
         "Mammalia_40674",
         "Rodentia_9989",
         "Muridae_10066",
         "Lophuromys_51347",
         "Lophuromys_melanonyx_303926"
        ],
        [
         "26",
         "Aves_8782",
         "Passeriformes_9126",
         "Parulidae_400782",
         "Myioborus_182937",
         "Myioborus_cardonai_328441"
        ],
        [
         "27",
         "Aves_8782",
         "Galliformes_8976",
         "Phasianidae_9005",
         "Pternistis_1756210",
         "Pternistis_clappertoni_389011"
        ],
        [
         "28",
         "Mammalia_40674",
         "Primates_9443",
         "Indriidae_30599",
         "Propithecus_30600",
         "Propithecus_candidus_543560"
        ],
        [
         "29",
         "Mammalia_40674",
         "Carnivora_33554",
         "Mephitidae_119825",
         "Conepatus_30541",
         "Conepatus_semistriatus_298411"
        ],
        [
         "30",
         "Mammalia_40674",
         "Carnivora_33554",
         "Herpestidae_9697",
         "Bdeogale_326575",
         "Bdeogale_crassicauda_326576"
        ],
        [
         "31",
         "Actinopteri_186623",
         "Cypriniformes_7952",
         "Cyprinidae_7953",
         "Semilabeo_75363",
         "Semilabeo_obscurus_381602"
        ],
        [
         "32",
         "Actinopteri_186623",
         "Siluriformes_7995",
         "Diplomystidae_31007",
         "Diplomystes_337531",
         "Diplomystes_nahuelbutaensis_390452"
        ],
        [
         "33",
         "Aves_8782",
         "Passeriformes_9126",
         "Thraupidae_400783",
         "Chalcothraupis_3150840",
         "Chalcothraupis_ruficervix_3150888"
        ],
        [
         "34",
         "Mammalia_40674",
         "Primates_9443",
         "Hominidae_9604",
         "Pongo_9599",
         "Pongo_pygmaeus_9600"
        ],
        [
         "35",
         "Actinopteri_186623",
         "order_Polynemidae_30917",
         "Polynemidae_30917",
         "Polynemus_232320",
         "Polynemus_dubius_1807190"
        ],
        [
         "36",
         "Actinopteri_186623",
         "Cypriniformes_7952",
         "family_genus_diploid_Megalobrama_amblycephala_x_Xenocypris_davidi_747040",
         "genus_diploid_Megalobrama_amblycephala_x_Xenocypris_davidi_747040",
         "diploid_Megalobrama_amblycephala_x_Xenocypris_davidi_747040"
        ],
        [
         "37",
         "Actinopteri_186623",
         "Siluriformes_7995",
         "Mochokidae_31000",
         "Atopochilus_390409",
         "Atopochilus_mandevillei_2999569"
        ],
        [
         "38",
         "Aves_8782",
         "Charadriiformes_8906",
         "Laridae_8910",
         "Larus_8911",
         "Larus_armenicus_119635"
        ],
        [
         "39",
         "Mammalia_40674",
         "Lagomorpha_9975",
         "Leporidae_9979",
         "Pronolagus_42058",
         "Pronolagus_rupestris_42061"
        ],
        [
         "40",
         "Actinopteri_186623",
         "Gobiiformes_1489878",
         "Gobiidae_8220",
         "Millerigobius_1079949",
         "Millerigobius_macrocephalus_1079950"
        ],
        [
         "41",
         "Actinopteri_186623",
         "Clupeiformes_32446",
         "Pristigasteridae_260504",
         "Ilisha_365053",
         "Ilisha_sirishai_2259658"
        ],
        [
         "42",
         "Actinopteri_186623",
         "Gobiiformes_1489878",
         "Gobiidae_8220",
         "Chaenogobius_166740",
         "Chaenogobius_gulosus_646541"
        ],
        [
         "43",
         "Mammalia_40674",
         "Chiroptera_9397",
         "Pteropodidae_9398",
         "Pteropus_9401",
         "Pteropus_samoensis_170230"
        ],
        [
         "44",
         "Mammalia_40674",
         "Chiroptera_9397",
         "Vespertilionidae_9431",
         "Nyctalus_51299",
         "Nyctalus_noctula_51300"
        ],
        [
         "45",
         "Actinopteri_186623",
         "Aulopiformes_68510",
         "Synodontidae_81390",
         "Saurida_143309",
         "Saurida_brasiliensis_1226401"
        ],
        [
         "46",
         "Actinopteri_186623",
         "Uranoscopiformes_1489926",
         "Uranoscopidae_70846",
         "Xenocephalus_662029",
         "Xenocephalus_elongatus_1508071"
        ],
        [
         "47",
         "Mammalia_40674",
         "Primates_9443",
         "Cercopithecidae_9527",
         "Colobus_9570",
         "Colobus_guereza_33548"
        ],
        [
         "48",
         "Actinopteri_186623",
         "Centrarchiformes_1489940",
         "Kyphosidae_30843",
         "Kyphosus_163142",
         "Kyphosus_vaigiensis_163143"
        ],
        [
         "49",
         "Actinopteri_186623",
         "Cypriniformes_7952",
         "Cyprinidae_7953",
         "Sinocyclocheilus_75365",
         "Sinocyclocheilus_wumengshanensis_2448038"
        ]
       ],
       "shape": {
        "columns": 5,
        "rows": 16078
       }
      },
      "text/html": [
       "<div>\n",
       "<style scoped>\n",
       "    .dataframe tbody tr th:only-of-type {\n",
       "        vertical-align: middle;\n",
       "    }\n",
       "\n",
       "    .dataframe tbody tr th {\n",
       "        vertical-align: top;\n",
       "    }\n",
       "\n",
       "    .dataframe thead th {\n",
       "        text-align: right;\n",
       "    }\n",
       "</style>\n",
       "<table border=\"1\" class=\"dataframe\">\n",
       "  <thead>\n",
       "    <tr style=\"text-align: right;\">\n",
       "      <th></th>\n",
       "      <th>3</th>\n",
       "      <th>4</th>\n",
       "      <th>5</th>\n",
       "      <th>6</th>\n",
       "      <th>7</th>\n",
       "    </tr>\n",
       "  </thead>\n",
       "  <tbody>\n",
       "    <tr>\n",
       "      <th>0</th>\n",
       "      <td>Actinopteri_186623</td>\n",
       "      <td>Beloniformes_76071</td>\n",
       "      <td>Exocoetidae_76072</td>\n",
       "      <td>Cheilopogon_293908</td>\n",
       "      <td>Cheilopogon_exsiliens_938381</td>\n",
       "    </tr>\n",
       "    <tr>\n",
       "      <th>1</th>\n",
       "      <td>Mammalia_40674</td>\n",
       "      <td>Chiroptera_9397</td>\n",
       "      <td>Phyllostomidae_9415</td>\n",
       "      <td>Artibeus_9416</td>\n",
       "      <td>Artibeus_inopinatus_51013</td>\n",
       "    </tr>\n",
       "    <tr>\n",
       "      <th>2</th>\n",
       "      <td>Mammalia_40674</td>\n",
       "      <td>Rodentia_9989</td>\n",
       "      <td>Muridae_10066</td>\n",
       "      <td>Mus_10088</td>\n",
       "      <td>Mus_haussa_273922</td>\n",
       "    </tr>\n",
       "    <tr>\n",
       "      <th>3</th>\n",
       "      <td>Actinopteri_186623</td>\n",
       "      <td>Perciformes_8111</td>\n",
       "      <td>Percidae_8165</td>\n",
       "      <td>Etheostoma_54318</td>\n",
       "      <td>Etheostoma_pseudovulatum_91963</td>\n",
       "    </tr>\n",
       "    <tr>\n",
       "      <th>4</th>\n",
       "      <td>Aves_8782</td>\n",
       "      <td>Passeriformes_9126</td>\n",
       "      <td>Fringillidae_9133</td>\n",
       "      <td>Carpodacus_30426</td>\n",
       "      <td>Carpodacus_thura_64796</td>\n",
       "    </tr>\n",
       "    <tr>\n",
       "      <th>...</th>\n",
       "      <td>...</td>\n",
       "      <td>...</td>\n",
       "      <td>...</td>\n",
       "      <td>...</td>\n",
       "      <td>...</td>\n",
       "    </tr>\n",
       "    <tr>\n",
       "      <th>16073</th>\n",
       "      <td>Actinopteri_186623</td>\n",
       "      <td>Cypriniformes_7952</td>\n",
       "      <td>Leuciscidae_2743726</td>\n",
       "      <td>Telestes_103461</td>\n",
       "      <td>Telestes_dabar_1483148</td>\n",
       "    </tr>\n",
       "    <tr>\n",
       "      <th>16074</th>\n",
       "      <td>Actinopteri_186623</td>\n",
       "      <td>Cypriniformes_7952</td>\n",
       "      <td>Xenocyprididae_2743745</td>\n",
       "      <td>Plagiognathops_927612</td>\n",
       "      <td>Plagiognathops_microlepis_70548</td>\n",
       "    </tr>\n",
       "    <tr>\n",
       "      <th>16075</th>\n",
       "      <td>Lepidosauria_8504</td>\n",
       "      <td>Squamata_8509</td>\n",
       "      <td>Agamidae_81953</td>\n",
       "      <td>Phrynocephalus_52205</td>\n",
       "      <td>Phrynocephalus_axillaris_103693</td>\n",
       "    </tr>\n",
       "    <tr>\n",
       "      <th>16076</th>\n",
       "      <td>Actinopteri_186623</td>\n",
       "      <td>Chaetodontiformes_1545895</td>\n",
       "      <td>Leiognathidae_30846</td>\n",
       "      <td>Photopectoralis_334404</td>\n",
       "      <td>Photopectoralis_bindus_274455</td>\n",
       "    </tr>\n",
       "    <tr>\n",
       "      <th>16077</th>\n",
       "      <td>Actinopteri_186623</td>\n",
       "      <td>Cyprinodontiformes_28738</td>\n",
       "      <td>Poeciliidae_8079</td>\n",
       "      <td>Poeciliopsis_56612</td>\n",
       "      <td>Poeciliopsis_presidionis_188131</td>\n",
       "    </tr>\n",
       "  </tbody>\n",
       "</table>\n",
       "<p>16078 rows × 5 columns</p>\n",
       "</div>"
      ],
      "text/plain": [
       "                        3                          4                       5  \\\n",
       "0      Actinopteri_186623         Beloniformes_76071       Exocoetidae_76072   \n",
       "1          Mammalia_40674            Chiroptera_9397     Phyllostomidae_9415   \n",
       "2          Mammalia_40674              Rodentia_9989           Muridae_10066   \n",
       "3      Actinopteri_186623           Perciformes_8111           Percidae_8165   \n",
       "4               Aves_8782         Passeriformes_9126       Fringillidae_9133   \n",
       "...                   ...                        ...                     ...   \n",
       "16073  Actinopteri_186623         Cypriniformes_7952     Leuciscidae_2743726   \n",
       "16074  Actinopteri_186623         Cypriniformes_7952  Xenocyprididae_2743745   \n",
       "16075   Lepidosauria_8504              Squamata_8509          Agamidae_81953   \n",
       "16076  Actinopteri_186623  Chaetodontiformes_1545895     Leiognathidae_30846   \n",
       "16077  Actinopteri_186623   Cyprinodontiformes_28738        Poeciliidae_8079   \n",
       "\n",
       "                            6                                7  \n",
       "0          Cheilopogon_293908     Cheilopogon_exsiliens_938381  \n",
       "1               Artibeus_9416        Artibeus_inopinatus_51013  \n",
       "2                   Mus_10088                Mus_haussa_273922  \n",
       "3            Etheostoma_54318   Etheostoma_pseudovulatum_91963  \n",
       "4            Carpodacus_30426           Carpodacus_thura_64796  \n",
       "...                       ...                              ...  \n",
       "16073         Telestes_103461           Telestes_dabar_1483148  \n",
       "16074   Plagiognathops_927612  Plagiognathops_microlepis_70548  \n",
       "16075    Phrynocephalus_52205  Phrynocephalus_axillaris_103693  \n",
       "16076  Photopectoralis_334404    Photopectoralis_bindus_274455  \n",
       "16077      Poeciliopsis_56612  Poeciliopsis_presidionis_188131  \n",
       "\n",
       "[16078 rows x 5 columns]"
      ]
     },
     "execution_count": 7,
     "metadata": {},
     "output_type": "execute_result"
    }
   ],
   "source": [
    "taxa = pd.DataFrame([x.name.split(';') for x in verts]).iloc[:, 3:]\n",
    "taxa"
   ]
  },
  {
   "cell_type": "markdown",
   "metadata": {},
   "source": [
    "### prepare one species from genus"
   ]
  },
  {
   "cell_type": "code",
   "execution_count": 39,
   "metadata": {},
   "outputs": [
    {
     "data": {
      "image/png": "[encoded data removed]",
      "text/plain": [
       "<Figure size 640x480 with 1 Axes>"
      ]
     },
     "metadata": {},
     "output_type": "display_data"
    },
    {
     "data": {
      "application/vnd.microsoft.datawrangler.viewer.v0+json": {
       "columns": [
        {
         "name": "index",
         "rawType": "int64",
         "type": "integer"
        },
        {
         "name": "genus",
         "rawType": "object",
         "type": "string"
        },
        {
         "name": "nspecies",
         "rawType": "int64",
         "type": "integer"
        },
        {
         "name": "name_size",
         "rawType": "int64",
         "type": "integer"
        }
       ],
       "conversionMethod": "pd.DataFrame",
       "ref": "f6d91725-d7f6-4998-85a7-280dbbdc8b93",
       "rows": [
        [
         "334",
         "Ara_9225",
         "9",
         "8"
        ],
        [
         "288",
         "Bos_9903",
         "10",
         "8"
        ],
        [
         "527",
         "Sus_9822",
         "7",
         "8"
        ],
        [
         "2074",
         "Pan_9596",
         "2",
         "8"
        ],
        [
         "2656",
         "Aix_8831",
         "1",
         "8"
        ],
        [
         "472",
         "Esox_8009",
         "7",
         "9"
        ],
        [
         "2118",
         "Apus_8894",
         "2",
         "9"
        ],
        [
         "392",
         "Grus_9114",
         "8",
         "9"
        ],
        [
         "1390",
         "Inia_9724",
         "3",
         "9"
        ],
        [
         "1904",
         "Rhea_8796",
         "2",
         "9"
        ],
        [
         "1811",
         "Lama_9839",
         "2",
         "9"
        ],
        [
         "2177",
         "Dama_9867",
         "2",
         "9"
        ],
        [
         "1507",
         "Uta_43651",
         "2",
         "9"
        ],
        [
         "95",
         "Rana_8399",
         "19",
         "9"
        ],
        [
         "3060",
         "Zu_143324",
         "1",
         "9"
        ],
        [
         "179",
         "Anas_8835",
         "13",
         "9"
        ],
        [
         "573",
         "Raja_7780",
         "6",
         "9"
        ],
        [
         "2029",
         "Pavo_9048",
         "2",
         "9"
        ],
        [
         "800",
         "Oryx_9957",
         "4",
         "9"
        ],
        [
         "73",
         "Mus_10088",
         "22",
         "9"
        ],
        [
         "4090",
         "Homo_9605",
         "1",
         "9"
        ],
        [
         "417",
         "Ovis_9935",
         "8",
         "9"
        ],
        [
         "4945",
         "Ia_360966",
         "1",
         "9"
        ],
        [
         "1306",
         "Gyps_8965",
         "3",
         "9"
        ],
        [
         "2499",
         "Amia_7923",
         "1",
         "9"
        ],
        [
         "1697",
         "Axis_9855",
         "2",
         "9"
        ],
        [
         "262",
         "Ursus_9639",
         "10",
         "10"
        ],
        [
         "4704",
         "Nes_203327",
         "1",
         "10"
        ],
        [
         "748",
         "Felis_9682",
         "5",
         "10"
        ],
        [
         "3396",
         "Lota_69943",
         "1",
         "10"
        ],
        [
         "2877",
         "Mugil_8190",
         "1",
         "10"
        ],
        [
         "898",
         "Pica_34923",
         "4",
         "10"
        ],
        [
         "86",
         "Gila_67540",
         "20",
         "10"
        ],
        [
         "4099",
         "Meda_67548",
         "1",
         "10"
        ],
        [
         "2445",
         "Alle_28690",
         "1",
         "10"
        ],
        [
         "476",
         "Gekko_8565",
         "7",
         "10"
        ],
        [
         "2245",
         "Sarda_8229",
         "2",
         "10"
        ],
        [
         "1723",
         "Kogia_9751",
         "2",
         "10"
        ],
        [
         "307",
         "Bubo_30460",
         "9",
         "10"
        ],
        [
         "239",
         "Danio_7954",
         "11",
         "10"
        ],
        [
         "2310",
         "Sula_32641",
         "2",
         "10"
        ],
        [
         "3221",
         "Otis_73106",
         "1",
         "10"
        ],
        [
         "253",
         "Canis_9611",
         "10",
         "10"
        ],
        [
         "4137",
         "Cuon_68729",
         "1",
         "10"
        ],
        [
         "1128",
         "Crax_83282",
         "3",
         "10"
        ],
        [
         "437",
         "Papio_9554",
         "7",
         "10"
        ],
        [
         "2345",
         "Loris_9467",
         "2",
         "10"
        ],
        [
         "441",
         "Aotus_9504",
         "7",
         "10"
        ],
        [
         "764",
         "Kobus_9961",
         "5",
         "10"
        ],
        [
         "1387",
         "Lutra_9656",
         "3",
         "10"
        ]
       ],
       "shape": {
        "columns": 3,
        "rows": 5046
       }
      },
      "text/html": [
       "<div>\n",
       "<style scoped>\n",
       "    .dataframe tbody tr th:only-of-type {\n",
       "        vertical-align: middle;\n",
       "    }\n",
       "\n",
       "    .dataframe tbody tr th {\n",
       "        vertical-align: top;\n",
       "    }\n",
       "\n",
       "    .dataframe thead th {\n",
       "        text-align: right;\n",
       "    }\n",
       "</style>\n",
       "<table border=\"1\" class=\"dataframe\">\n",
       "  <thead>\n",
       "    <tr style=\"text-align: right;\">\n",
       "      <th></th>\n",
       "      <th>genus</th>\n",
       "      <th>nspecies</th>\n",
       "      <th>name_size</th>\n",
       "    </tr>\n",
       "  </thead>\n",
       "  <tbody>\n",
       "    <tr>\n",
       "      <th>334</th>\n",
       "      <td>Ara_9225</td>\n",
       "      <td>9</td>\n",
       "      <td>8</td>\n",
       "    </tr>\n",
       "    <tr>\n",
       "      <th>288</th>\n",
       "      <td>Bos_9903</td>\n",
       "      <td>10</td>\n",
       "      <td>8</td>\n",
       "    </tr>\n",
       "    <tr>\n",
       "      <th>527</th>\n",
       "      <td>Sus_9822</td>\n",
       "      <td>7</td>\n",
       "      <td>8</td>\n",
       "    </tr>\n",
       "    <tr>\n",
       "      <th>2074</th>\n",
       "      <td>Pan_9596</td>\n",
       "      <td>2</td>\n",
       "      <td>8</td>\n",
       "    </tr>\n",
       "    <tr>\n",
       "      <th>2656</th>\n",
       "      <td>Aix_8831</td>\n",
       "      <td>1</td>\n",
       "      <td>8</td>\n",
       "    </tr>\n",
       "    <tr>\n",
       "      <th>...</th>\n",
       "      <td>...</td>\n",
       "      <td>...</td>\n",
       "      <td>...</td>\n",
       "    </tr>\n",
       "    <tr>\n",
       "      <th>3265</th>\n",
       "      <td>Amblychaeturichthys_497221</td>\n",
       "      <td>1</td>\n",
       "      <td>26</td>\n",
       "    </tr>\n",
       "    <tr>\n",
       "      <th>2433</th>\n",
       "      <td>Tenebrosternarchus_2936481</td>\n",
       "      <td>1</td>\n",
       "      <td>26</td>\n",
       "    </tr>\n",
       "    <tr>\n",
       "      <th>4057</th>\n",
       "      <td>Pseudocrossocheilus_369677</td>\n",
       "      <td>1</td>\n",
       "      <td>26</td>\n",
       "    </tr>\n",
       "    <tr>\n",
       "      <th>835</th>\n",
       "      <td>Lepidocephalichthys_425478</td>\n",
       "      <td>4</td>\n",
       "      <td>26</td>\n",
       "    </tr>\n",
       "    <tr>\n",
       "      <th>3969</th>\n",
       "      <td>Paralepidocephalus_2991286</td>\n",
       "      <td>1</td>\n",
       "      <td>26</td>\n",
       "    </tr>\n",
       "  </tbody>\n",
       "</table>\n",
       "<p>5046 rows × 3 columns</p>\n",
       "</div>"
      ],
      "text/plain": [
       "                           genus  nspecies  name_size\n",
       "334                     Ara_9225         9          8\n",
       "288                     Bos_9903        10          8\n",
       "527                     Sus_9822         7          8\n",
       "2074                    Pan_9596         2          8\n",
       "2656                    Aix_8831         1          8\n",
       "...                          ...       ...        ...\n",
       "3265  Amblychaeturichthys_497221         1         26\n",
       "2433  Tenebrosternarchus_2936481         1         26\n",
       "4057  Pseudocrossocheilus_369677         1         26\n",
       "835   Lepidocephalichthys_425478         4         26\n",
       "3969  Paralepidocephalus_2991286         1         26\n",
       "\n",
       "[5046 rows x 3 columns]"
      ]
     },
     "execution_count": 39,
     "metadata": {},
     "output_type": "execute_result"
    }
   ],
   "source": [
    "name_size_cutoff = 28\n",
    "\n",
    "genus_df = taxa[6].value_counts().reset_index()\n",
    "genus_df.columns = ['genus', 'nspecies']\n",
    "genus_df['name_size'] = genus_df.genus.str.len()\n",
    "\n",
    "genus_df.name_size.hist(bins=50)\n",
    "plt.vlines(name_size_cutoff, 0, 1200, 'r', '--')\n",
    "plt.show()\n",
    "genus_df = genus_df[genus_df.name_size < name_size_cutoff]\n",
    "genus_df.sort_values('name_size')"
   ]
  },
  {
   "cell_type": "code",
   "execution_count": 40,
   "metadata": {},
   "outputs": [
    {
     "data": {
      "text/plain": [
       "1    5046\n",
       "Name: genus, dtype: int64"
      ]
     },
     "execution_count": 40,
     "metadata": {},
     "output_type": "execute_result"
    }
   ],
   "source": [
    "genus_df.genus.str.count('_').value_counts()"
   ]
  },
  {
   "cell_type": "code",
   "execution_count": 41,
   "metadata": {},
   "outputs": [
    {
     "data": {
      "application/vnd.microsoft.datawrangler.viewer.v0+json": {
       "columns": [
        {
         "name": "index",
         "rawType": "int64",
         "type": "integer"
        },
        {
         "name": "3",
         "rawType": "object",
         "type": "string"
        },
        {
         "name": "4",
         "rawType": "object",
         "type": "string"
        },
        {
         "name": "5",
         "rawType": "object",
         "type": "string"
        },
        {
         "name": "6",
         "rawType": "object",
         "type": "string"
        },
        {
         "name": "7",
         "rawType": "object",
         "type": "string"
        }
       ],
       "conversionMethod": "pd.DataFrame",
       "ref": "66f4a817-8255-419f-9086-2695a84fccaa",
       "rows": [
        [
         "0",
         "Actinopteri_186623",
         "Gobiiformes_1489878",
         "Gobiidae_8220",
         "Sicyopus_936280",
         "Sicyopus_zosterophorus_1916785"
        ],
        [
         "1",
         "Actinopteri_186623",
         "Osteoglossiformes_41712",
         "Osteoglossidae_27723",
         "Scleropages_27726",
         "Scleropages_formosus_113540"
        ],
        [
         "2",
         "Actinopteri_186623",
         "order_Pomacentridae_30863",
         "Pomacentridae_30863",
         "Chrysiptera_80978",
         "Chrysiptera_galba_229101"
        ],
        [
         "3",
         "Mammalia_40674",
         "Rodentia_9989",
         "Heteromyidae_10015",
         "Chaetodipus_38664",
         "Chaetodipus_goldmani_145411"
        ],
        [
         "4",
         "Mammalia_40674",
         "Chiroptera_9397",
         "Cistugidae_3136025",
         "Cistugo_712047",
         "Cistugo_seabrae_712048"
        ],
        [
         "5",
         "Mammalia_40674",
         "Chiroptera_9397",
         "Phyllostomidae_9415",
         "Platyrrhinus_27657",
         "Platyrrhinus_masu_574080"
        ],
        [
         "6",
         "Actinopteri_186623",
         "Perciformes_8111",
         "Zoarcidae_8193",
         "Lycenchelys_215413",
         "Lycenchelys_kolthoffi_1266875"
        ],
        [
         "7",
         "Aves_8782",
         "Passeriformes_9126",
         "Thraupidae_400783",
         "Thraupis_58208",
         "Thraupis_cyanoptera_548518"
        ],
        [
         "8",
         "Actinopteri_186623",
         "Tetraodontiformes_31022",
         "Tetraodontidae_31031",
         "Takifugu_31032",
         "Takifugu_exascurus_277992"
        ],
        [
         "9",
         "Aves_8782",
         "Passeriformes_9126",
         "Laniidae_9193",
         "Lanius_28712",
         "Lanius_schach_276763"
        ],
        [
         "10",
         "Actinopteri_186623",
         "Priacanthiformes_2024536",
         "Priacanthidae_30865",
         "Heteropriacanthus_342440",
         "Heteropriacanthus_cruentatus_342441"
        ],
        [
         "11",
         "Actinopteri_186623",
         "Cypriniformes_7952",
         "Leuciscidae_2743726",
         "Gila_67540",
         "Gila_pulchra_1276905"
        ],
        [
         "12",
         "Actinopteri_186623",
         "Cypriniformes_7952",
         "Cyprinidae_7953",
         "Bangana_643445",
         "Bangana_tungting_1446309"
        ],
        [
         "13",
         "Aves_8782",
         "Passeriformes_9126",
         "Turdidae_9183",
         "Myadestes_123380",
         "Myadestes_occidentalis_164889"
        ],
        [
         "14",
         "Mammalia_40674",
         "Rodentia_9989",
         "Heteromyidae_10015",
         "Chaetodipus_38664",
         "Chaetodipus_nelsoni_145412"
        ],
        [
         "15",
         "Mammalia_40674",
         "Rodentia_9989",
         "Spalacidae_337664",
         "Nannospalax_30636",
         "Nannospalax_leucodon_30638"
        ],
        [
         "16",
         "Mammalia_40674",
         "Rodentia_9989",
         "Heteromyidae_10015",
         "Dipodomys_10016",
         "Dipodomys_agilis_50722"
        ],
        [
         "17",
         "Mammalia_40674",
         "Carnivora_33554",
         "Canidae_9608",
         "Lycaon_9621",
         "Lycaon_pictus_9622"
        ],
        [
         "18",
         "Amphibia_8292",
         "Caudata_8293",
         "Hynobiidae_30366",
         "Hynobius_36311",
         "Hynobius_ikioi_2315447"
        ],
        [
         "19",
         "Actinopteri_186623",
         "Cypriniformes_7952",
         "Catostomidae_7968",
         "Moxostoma_117934",
         "Moxostoma_rupiscartes_196802"
        ],
        [
         "20",
         "Aves_8782",
         "Passeriformes_9126",
         "Hirundinidae_43148",
         "Hirundo_43149",
         "Hirundo_atrocaerulea_317134"
        ],
        [
         "21",
         "Lepidosauria_8504",
         "Squamata_8509",
         "Lacertidae_8522",
         "Takydromus_80461",
         "Takydromus_sylvaticus_363227"
        ],
        [
         "22",
         "Mammalia_40674",
         "Rodentia_9989",
         "Muridae_10066",
         "Lophuromys_51347",
         "Lophuromys_stanleyi_2082267"
        ],
        [
         "23",
         "Actinopteri_186623",
         "Anguilliformes_7933",
         "Muraenidae_46660",
         "Scuticaria_210591",
         "Scuticaria_tigrina_391220"
        ],
        [
         "24",
         "Mammalia_40674",
         "Chiroptera_9397",
         "Rhinolophidae_58055",
         "Rhinolophus_49442",
         "Rhinolophus_cornutus_196296"
        ],
        [
         "25",
         "Actinopteri_186623",
         "Myctophiformes_68514",
         "Myctophidae_68515",
         "Bolinichthys_123244",
         "Bolinichthys_longipes_123245"
        ],
        [
         "26",
         "Mammalia_40674",
         "Primates_9443",
         "Cercopithecidae_9527",
         "Chlorocebus_392815",
         "Chlorocebus_djamdjamensis_1284215"
        ],
        [
         "27",
         "Aves_8782",
         "Passeriformes_9126",
         "Thraupidae_400783",
         "Rhopospina_2786904",
         "Rhopospina_carbonaria_3150469"
        ],
        [
         "28",
         "Aves_8782",
         "Passeriformes_9126",
         "Sylviidae_36270",
         "Curruca_1930205",
         "Curruca_crassirostris_3149712"
        ],
        [
         "29",
         "Actinopteri_186623",
         "Cypriniformes_7952",
         "Leuciscidae_2743726",
         "Parachondrostoma_437170",
         "Parachondrostoma_arrigonis_283764"
        ],
        [
         "30",
         "Mammalia_40674",
         "Artiodactyla_91561",
         "Suidae_9821",
         "Babyrousa_41805",
         "Babyrousa_babyrussa_41806"
        ],
        [
         "31",
         "Actinopteri_186623",
         "Lutjaniformes_2024539",
         "Haemulidae_30840",
         "Diagramma_241257",
         "Diagramma_picta_556049"
        ],
        [
         "32",
         "Mammalia_40674",
         "Rodentia_9989",
         "Sciuridae_55153",
         "Sundasciurus_226574",
         "Sundasciurus_fraterculus_1620828"
        ],
        [
         "33",
         "Actinopteri_186623",
         "Centrarchiformes_1489940",
         "Elassomatidae_71672",
         "Elassoma_71673",
         "Elassoma_okatie_94451"
        ],
        [
         "34",
         "Actinopteri_186623",
         "Siluriformes_7995",
         "Mochokidae_31000",
         "Synodontis_42509",
         "Synodontis_pardalis_1273069"
        ],
        [
         "35",
         "Actinopteri_186623",
         "Perciformes_8111",
         "Cottidae_8092",
         "Cottus_8098",
         "Cottus_confusus_304271"
        ],
        [
         "36",
         "Actinopteri_186623",
         "Cyprinodontiformes_28738",
         "Poeciliidae_8079",
         "Limia_154031",
         "Limia_garnieri_1517971"
        ],
        [
         "37",
         "Actinopteri_186623",
         "Synbranchiformes_43697",
         "Mastacembelidae_94233",
         "Mastacembelus_94234",
         "Mastacembelus_liberiensis_1714499"
        ],
        [
         "38",
         "Mammalia_40674",
         "Rodentia_9989",
         "Bathyergidae_10167",
         "Fukomys_423606",
         "Fukomys_micklemi_423610"
        ],
        [
         "39",
         "Amphibia_8292",
         "Anura_8342",
         "Ptychadenidae_685128",
         "Ptychadena_88030",
         "Ptychadena_nuerensis_2039362"
        ],
        [
         "40",
         "Lepidosauria_8504",
         "Squamata_8509",
         "Scincidae_66056",
         "Ctenotus_204894",
         "Ctenotus_essingtonii_480736"
        ],
        [
         "41",
         "Actinopteri_186623",
         "Osteoglossiformes_41712",
         "Mormyridae_31092",
         "Ivindomyrus_91726",
         "Ivindomyrus_marchei_91714"
        ],
        [
         "42",
         "Actinopteri_186623",
         "Perciformes_8111",
         "Scorpaenidae_8108",
         "Iracundus_274696",
         "Iracundus_signifer_274697"
        ],
        [
         "43",
         "Actinopteri_186623",
         "Pleuronectiformes_8252",
         "Poecilopsettidae_490375",
         "Poecilopsetta_195636",
         "Poecilopsetta_inermis_2968239"
        ],
        [
         "44",
         "Actinopteri_186623",
         "Centrarchiformes_1489940",
         "Terapontidae_30875",
         "Amniataba_1161366",
         "Amniataba_affinis_1161367"
        ],
        [
         "45",
         "Actinopteri_186623",
         "Perciformes_8111",
         "Sebastidae_274692",
         "Sebastes_34820",
         "Sebastes_auriculatus_72057"
        ],
        [
         "46",
         "Aves_8782",
         "Caprimulgiformes_8902",
         "Caprimulgidae_48283",
         "Caprimulgus_48284",
         "Caprimulgus_nigriscapularis_723281"
        ],
        [
         "47",
         "Actinopteri_186623",
         "Scombriformes_1489894",
         "Gempylidae_27767",
         "Neoepinnula_499855",
         "Neoepinnula_orientalis_887132"
        ],
        [
         "48",
         "Actinopteri_186623",
         "Siluriformes_7995",
         "Loricariidae_31002",
         "Otocinclus_281757",
         "Otocinclus_affinis_510768"
        ],
        [
         "49",
         "Amphibia_8292",
         "Anura_8342",
         "Ranidae_8397",
         "Pelophylax_121164",
         "Pelophylax_chosenicus_512019"
        ]
       ],
       "shape": {
        "columns": 5,
        "rows": 16078
       }
      },
      "text/html": [
       "<div>\n",
       "<style scoped>\n",
       "    .dataframe tbody tr th:only-of-type {\n",
       "        vertical-align: middle;\n",
       "    }\n",
       "\n",
       "    .dataframe tbody tr th {\n",
       "        vertical-align: top;\n",
       "    }\n",
       "\n",
       "    .dataframe thead th {\n",
       "        text-align: right;\n",
       "    }\n",
       "</style>\n",
       "<table border=\"1\" class=\"dataframe\">\n",
       "  <thead>\n",
       "    <tr style=\"text-align: right;\">\n",
       "      <th></th>\n",
       "      <th>3</th>\n",
       "      <th>4</th>\n",
       "      <th>5</th>\n",
       "      <th>6</th>\n",
       "      <th>7</th>\n",
       "    </tr>\n",
       "  </thead>\n",
       "  <tbody>\n",
       "    <tr>\n",
       "      <th>0</th>\n",
       "      <td>Actinopteri_186623</td>\n",
       "      <td>Gobiiformes_1489878</td>\n",
       "      <td>Gobiidae_8220</td>\n",
       "      <td>Sicyopus_936280</td>\n",
       "      <td>Sicyopus_zosterophorus_1916785</td>\n",
       "    </tr>\n",
       "    <tr>\n",
       "      <th>1</th>\n",
       "      <td>Actinopteri_186623</td>\n",
       "      <td>Osteoglossiformes_41712</td>\n",
       "      <td>Osteoglossidae_27723</td>\n",
       "      <td>Scleropages_27726</td>\n",
       "      <td>Scleropages_formosus_113540</td>\n",
       "    </tr>\n",
       "    <tr>\n",
       "      <th>2</th>\n",
       "      <td>Actinopteri_186623</td>\n",
       "      <td>order_Pomacentridae_30863</td>\n",
       "      <td>Pomacentridae_30863</td>\n",
       "      <td>Chrysiptera_80978</td>\n",
       "      <td>Chrysiptera_galba_229101</td>\n",
       "    </tr>\n",
       "    <tr>\n",
       "      <th>3</th>\n",
       "      <td>Mammalia_40674</td>\n",
       "      <td>Rodentia_9989</td>\n",
       "      <td>Heteromyidae_10015</td>\n",
       "      <td>Chaetodipus_38664</td>\n",
       "      <td>Chaetodipus_goldmani_145411</td>\n",
       "    </tr>\n",
       "    <tr>\n",
       "      <th>4</th>\n",
       "      <td>Mammalia_40674</td>\n",
       "      <td>Chiroptera_9397</td>\n",
       "      <td>Cistugidae_3136025</td>\n",
       "      <td>Cistugo_712047</td>\n",
       "      <td>Cistugo_seabrae_712048</td>\n",
       "    </tr>\n",
       "    <tr>\n",
       "      <th>...</th>\n",
       "      <td>...</td>\n",
       "      <td>...</td>\n",
       "      <td>...</td>\n",
       "      <td>...</td>\n",
       "      <td>...</td>\n",
       "    </tr>\n",
       "    <tr>\n",
       "      <th>16073</th>\n",
       "      <td>Aves_8782</td>\n",
       "      <td>Passeriformes_9126</td>\n",
       "      <td>Leiothrichidae_1673678</td>\n",
       "      <td>Actinodura_181642</td>\n",
       "      <td>Actinodura_souliei_181643</td>\n",
       "    </tr>\n",
       "    <tr>\n",
       "      <th>16074</th>\n",
       "      <td>Actinopteri_186623</td>\n",
       "      <td>Cyprinodontiformes_28738</td>\n",
       "      <td>Goodeidae_28758</td>\n",
       "      <td>Goodea_208335</td>\n",
       "      <td>Goodea_gracilis_208337</td>\n",
       "    </tr>\n",
       "    <tr>\n",
       "      <th>16075</th>\n",
       "      <td>Mammalia_40674</td>\n",
       "      <td>Pholidota_9971</td>\n",
       "      <td>Manidae_9972</td>\n",
       "      <td>Manis_9973</td>\n",
       "      <td>Manis_javanica_9974</td>\n",
       "    </tr>\n",
       "    <tr>\n",
       "      <th>16076</th>\n",
       "      <td>Lepidosauria_8504</td>\n",
       "      <td>Squamata_8509</td>\n",
       "      <td>Scincidae_66056</td>\n",
       "      <td>Lerista_66057</td>\n",
       "      <td>Lerista_humphriesi_470353</td>\n",
       "    </tr>\n",
       "    <tr>\n",
       "      <th>16077</th>\n",
       "      <td>Mammalia_40674</td>\n",
       "      <td>Rodentia_9989</td>\n",
       "      <td>Cricetidae_337677</td>\n",
       "      <td>Cricetus_10033</td>\n",
       "      <td>Cricetus_cricetus_10034</td>\n",
       "    </tr>\n",
       "  </tbody>\n",
       "</table>\n",
       "<p>16078 rows × 5 columns</p>\n",
       "</div>"
      ],
      "text/plain": [
       "                        3                          4                       5  \\\n",
       "0      Actinopteri_186623        Gobiiformes_1489878           Gobiidae_8220   \n",
       "1      Actinopteri_186623    Osteoglossiformes_41712    Osteoglossidae_27723   \n",
       "2      Actinopteri_186623  order_Pomacentridae_30863     Pomacentridae_30863   \n",
       "3          Mammalia_40674              Rodentia_9989      Heteromyidae_10015   \n",
       "4          Mammalia_40674            Chiroptera_9397      Cistugidae_3136025   \n",
       "...                   ...                        ...                     ...   \n",
       "16073           Aves_8782         Passeriformes_9126  Leiothrichidae_1673678   \n",
       "16074  Actinopteri_186623   Cyprinodontiformes_28738         Goodeidae_28758   \n",
       "16075      Mammalia_40674             Pholidota_9971            Manidae_9972   \n",
       "16076   Lepidosauria_8504              Squamata_8509         Scincidae_66056   \n",
       "16077      Mammalia_40674              Rodentia_9989       Cricetidae_337677   \n",
       "\n",
       "                       6                               7  \n",
       "0        Sicyopus_936280  Sicyopus_zosterophorus_1916785  \n",
       "1      Scleropages_27726     Scleropages_formosus_113540  \n",
       "2      Chrysiptera_80978        Chrysiptera_galba_229101  \n",
       "3      Chaetodipus_38664     Chaetodipus_goldmani_145411  \n",
       "4         Cistugo_712047          Cistugo_seabrae_712048  \n",
       "...                  ...                             ...  \n",
       "16073  Actinodura_181642       Actinodura_souliei_181643  \n",
       "16074      Goodea_208335          Goodea_gracilis_208337  \n",
       "16075         Manis_9973             Manis_javanica_9974  \n",
       "16076      Lerista_66057       Lerista_humphriesi_470353  \n",
       "16077     Cricetus_10033         Cricetus_cricetus_10034  \n",
       "\n",
       "[16078 rows x 5 columns]"
      ]
     },
     "execution_count": 41,
     "metadata": {},
     "output_type": "execute_result"
    }
   ],
   "source": [
    "taxa"
   ]
  },
  {
   "cell_type": "code",
   "execution_count": 43,
   "metadata": {},
   "outputs": [
    {
     "data": {
      "application/vnd.microsoft.datawrangler.viewer.v0+json": {
       "columns": [
        {
         "name": "index",
         "rawType": "int64",
         "type": "integer"
        },
        {
         "name": "3",
         "rawType": "object",
         "type": "string"
        },
        {
         "name": "4",
         "rawType": "object",
         "type": "string"
        },
        {
         "name": "5",
         "rawType": "object",
         "type": "string"
        },
        {
         "name": "6",
         "rawType": "object",
         "type": "string"
        },
        {
         "name": "7",
         "rawType": "object",
         "type": "string"
        }
       ],
       "conversionMethod": "pd.DataFrame",
       "ref": "ccea564f-ae90-4d2f-8595-cd12d7861e86",
       "rows": [
        [
         "0",
         "Actinopteri_186623",
         "Gobiiformes_1489878",
         "Gobiidae_8220",
         "Sicyopus_936280",
         "Sicyopus_zosterophorus_1916785"
        ],
        [
         "1",
         "Actinopteri_186623",
         "Osteoglossiformes_41712",
         "Osteoglossidae_27723",
         "Scleropages_27726",
         "Scleropages_formosus_113540"
        ],
        [
         "2",
         "Actinopteri_186623",
         "order_Pomacentridae_30863",
         "Pomacentridae_30863",
         "Chrysiptera_80978",
         "Chrysiptera_galba_229101"
        ],
        [
         "3",
         "Mammalia_40674",
         "Rodentia_9989",
         "Heteromyidae_10015",
         "Chaetodipus_38664",
         "Chaetodipus_goldmani_145411"
        ],
        [
         "4",
         "Mammalia_40674",
         "Chiroptera_9397",
         "Cistugidae_3136025",
         "Cistugo_712047",
         "Cistugo_seabrae_712048"
        ],
        [
         "5",
         "Mammalia_40674",
         "Chiroptera_9397",
         "Phyllostomidae_9415",
         "Platyrrhinus_27657",
         "Platyrrhinus_masu_574080"
        ],
        [
         "6",
         "Actinopteri_186623",
         "Perciformes_8111",
         "Zoarcidae_8193",
         "Lycenchelys_215413",
         "Lycenchelys_kolthoffi_1266875"
        ],
        [
         "7",
         "Aves_8782",
         "Passeriformes_9126",
         "Thraupidae_400783",
         "Thraupis_58208",
         "Thraupis_cyanoptera_548518"
        ],
        [
         "8",
         "Actinopteri_186623",
         "Tetraodontiformes_31022",
         "Tetraodontidae_31031",
         "Takifugu_31032",
         "Takifugu_exascurus_277992"
        ],
        [
         "9",
         "Aves_8782",
         "Passeriformes_9126",
         "Laniidae_9193",
         "Lanius_28712",
         "Lanius_schach_276763"
        ],
        [
         "10",
         "Actinopteri_186623",
         "Priacanthiformes_2024536",
         "Priacanthidae_30865",
         "Heteropriacanthus_342440",
         "Heteropriacanthus_cruentatus_342441"
        ],
        [
         "11",
         "Actinopteri_186623",
         "Cypriniformes_7952",
         "Leuciscidae_2743726",
         "Gila_67540",
         "Gila_pulchra_1276905"
        ],
        [
         "12",
         "Actinopteri_186623",
         "Cypriniformes_7952",
         "Cyprinidae_7953",
         "Bangana_643445",
         "Bangana_tungting_1446309"
        ],
        [
         "13",
         "Aves_8782",
         "Passeriformes_9126",
         "Turdidae_9183",
         "Myadestes_123380",
         "Myadestes_occidentalis_164889"
        ],
        [
         "15",
         "Mammalia_40674",
         "Rodentia_9989",
         "Spalacidae_337664",
         "Nannospalax_30636",
         "Nannospalax_leucodon_30638"
        ],
        [
         "16",
         "Mammalia_40674",
         "Rodentia_9989",
         "Heteromyidae_10015",
         "Dipodomys_10016",
         "Dipodomys_agilis_50722"
        ],
        [
         "17",
         "Mammalia_40674",
         "Carnivora_33554",
         "Canidae_9608",
         "Lycaon_9621",
         "Lycaon_pictus_9622"
        ],
        [
         "18",
         "Amphibia_8292",
         "Caudata_8293",
         "Hynobiidae_30366",
         "Hynobius_36311",
         "Hynobius_ikioi_2315447"
        ],
        [
         "19",
         "Actinopteri_186623",
         "Cypriniformes_7952",
         "Catostomidae_7968",
         "Moxostoma_117934",
         "Moxostoma_rupiscartes_196802"
        ],
        [
         "20",
         "Aves_8782",
         "Passeriformes_9126",
         "Hirundinidae_43148",
         "Hirundo_43149",
         "Hirundo_atrocaerulea_317134"
        ],
        [
         "21",
         "Lepidosauria_8504",
         "Squamata_8509",
         "Lacertidae_8522",
         "Takydromus_80461",
         "Takydromus_sylvaticus_363227"
        ],
        [
         "22",
         "Mammalia_40674",
         "Rodentia_9989",
         "Muridae_10066",
         "Lophuromys_51347",
         "Lophuromys_stanleyi_2082267"
        ],
        [
         "23",
         "Actinopteri_186623",
         "Anguilliformes_7933",
         "Muraenidae_46660",
         "Scuticaria_210591",
         "Scuticaria_tigrina_391220"
        ],
        [
         "24",
         "Mammalia_40674",
         "Chiroptera_9397",
         "Rhinolophidae_58055",
         "Rhinolophus_49442",
         "Rhinolophus_cornutus_196296"
        ],
        [
         "25",
         "Actinopteri_186623",
         "Myctophiformes_68514",
         "Myctophidae_68515",
         "Bolinichthys_123244",
         "Bolinichthys_longipes_123245"
        ],
        [
         "26",
         "Mammalia_40674",
         "Primates_9443",
         "Cercopithecidae_9527",
         "Chlorocebus_392815",
         "Chlorocebus_djamdjamensis_1284215"
        ],
        [
         "27",
         "Aves_8782",
         "Passeriformes_9126",
         "Thraupidae_400783",
         "Rhopospina_2786904",
         "Rhopospina_carbonaria_3150469"
        ],
        [
         "28",
         "Aves_8782",
         "Passeriformes_9126",
         "Sylviidae_36270",
         "Curruca_1930205",
         "Curruca_crassirostris_3149712"
        ],
        [
         "29",
         "Actinopteri_186623",
         "Cypriniformes_7952",
         "Leuciscidae_2743726",
         "Parachondrostoma_437170",
         "Parachondrostoma_arrigonis_283764"
        ],
        [
         "30",
         "Mammalia_40674",
         "Artiodactyla_91561",
         "Suidae_9821",
         "Babyrousa_41805",
         "Babyrousa_babyrussa_41806"
        ],
        [
         "31",
         "Actinopteri_186623",
         "Lutjaniformes_2024539",
         "Haemulidae_30840",
         "Diagramma_241257",
         "Diagramma_picta_556049"
        ],
        [
         "32",
         "Mammalia_40674",
         "Rodentia_9989",
         "Sciuridae_55153",
         "Sundasciurus_226574",
         "Sundasciurus_fraterculus_1620828"
        ],
        [
         "33",
         "Actinopteri_186623",
         "Centrarchiformes_1489940",
         "Elassomatidae_71672",
         "Elassoma_71673",
         "Elassoma_okatie_94451"
        ],
        [
         "34",
         "Actinopteri_186623",
         "Siluriformes_7995",
         "Mochokidae_31000",
         "Synodontis_42509",
         "Synodontis_pardalis_1273069"
        ],
        [
         "35",
         "Actinopteri_186623",
         "Perciformes_8111",
         "Cottidae_8092",
         "Cottus_8098",
         "Cottus_confusus_304271"
        ],
        [
         "36",
         "Actinopteri_186623",
         "Cyprinodontiformes_28738",
         "Poeciliidae_8079",
         "Limia_154031",
         "Limia_garnieri_1517971"
        ],
        [
         "37",
         "Actinopteri_186623",
         "Synbranchiformes_43697",
         "Mastacembelidae_94233",
         "Mastacembelus_94234",
         "Mastacembelus_liberiensis_1714499"
        ],
        [
         "38",
         "Mammalia_40674",
         "Rodentia_9989",
         "Bathyergidae_10167",
         "Fukomys_423606",
         "Fukomys_micklemi_423610"
        ],
        [
         "39",
         "Amphibia_8292",
         "Anura_8342",
         "Ptychadenidae_685128",
         "Ptychadena_88030",
         "Ptychadena_nuerensis_2039362"
        ],
        [
         "40",
         "Lepidosauria_8504",
         "Squamata_8509",
         "Scincidae_66056",
         "Ctenotus_204894",
         "Ctenotus_essingtonii_480736"
        ],
        [
         "41",
         "Actinopteri_186623",
         "Osteoglossiformes_41712",
         "Mormyridae_31092",
         "Ivindomyrus_91726",
         "Ivindomyrus_marchei_91714"
        ],
        [
         "42",
         "Actinopteri_186623",
         "Perciformes_8111",
         "Scorpaenidae_8108",
         "Iracundus_274696",
         "Iracundus_signifer_274697"
        ],
        [
         "43",
         "Actinopteri_186623",
         "Pleuronectiformes_8252",
         "Poecilopsettidae_490375",
         "Poecilopsetta_195636",
         "Poecilopsetta_inermis_2968239"
        ],
        [
         "44",
         "Actinopteri_186623",
         "Centrarchiformes_1489940",
         "Terapontidae_30875",
         "Amniataba_1161366",
         "Amniataba_affinis_1161367"
        ],
        [
         "45",
         "Actinopteri_186623",
         "Perciformes_8111",
         "Sebastidae_274692",
         "Sebastes_34820",
         "Sebastes_auriculatus_72057"
        ],
        [
         "46",
         "Aves_8782",
         "Caprimulgiformes_8902",
         "Caprimulgidae_48283",
         "Caprimulgus_48284",
         "Caprimulgus_nigriscapularis_723281"
        ],
        [
         "47",
         "Actinopteri_186623",
         "Scombriformes_1489894",
         "Gempylidae_27767",
         "Neoepinnula_499855",
         "Neoepinnula_orientalis_887132"
        ],
        [
         "48",
         "Actinopteri_186623",
         "Siluriformes_7995",
         "Loricariidae_31002",
         "Otocinclus_281757",
         "Otocinclus_affinis_510768"
        ],
        [
         "49",
         "Amphibia_8292",
         "Anura_8342",
         "Ranidae_8397",
         "Pelophylax_121164",
         "Pelophylax_chosenicus_512019"
        ],
        [
         "50",
         "Aves_8782",
         "Accipitriformes_2558200",
         "Accipitridae_56259",
         "Gypaetus_33609",
         "Gypaetus_barbatus_33610"
        ]
       ],
       "shape": {
        "columns": 5,
        "rows": 5046
       }
      },
      "text/html": [
       "<div>\n",
       "<style scoped>\n",
       "    .dataframe tbody tr th:only-of-type {\n",
       "        vertical-align: middle;\n",
       "    }\n",
       "\n",
       "    .dataframe tbody tr th {\n",
       "        vertical-align: top;\n",
       "    }\n",
       "\n",
       "    .dataframe thead th {\n",
       "        text-align: right;\n",
       "    }\n",
       "</style>\n",
       "<table border=\"1\" class=\"dataframe\">\n",
       "  <thead>\n",
       "    <tr style=\"text-align: right;\">\n",
       "      <th></th>\n",
       "      <th>3</th>\n",
       "      <th>4</th>\n",
       "      <th>5</th>\n",
       "      <th>6</th>\n",
       "      <th>7</th>\n",
       "    </tr>\n",
       "  </thead>\n",
       "  <tbody>\n",
       "    <tr>\n",
       "      <th>0</th>\n",
       "      <td>Actinopteri_186623</td>\n",
       "      <td>Gobiiformes_1489878</td>\n",
       "      <td>Gobiidae_8220</td>\n",
       "      <td>Sicyopus_936280</td>\n",
       "      <td>Sicyopus_zosterophorus_1916785</td>\n",
       "    </tr>\n",
       "    <tr>\n",
       "      <th>1</th>\n",
       "      <td>Actinopteri_186623</td>\n",
       "      <td>Osteoglossiformes_41712</td>\n",
       "      <td>Osteoglossidae_27723</td>\n",
       "      <td>Scleropages_27726</td>\n",
       "      <td>Scleropages_formosus_113540</td>\n",
       "    </tr>\n",
       "    <tr>\n",
       "      <th>2</th>\n",
       "      <td>Actinopteri_186623</td>\n",
       "      <td>order_Pomacentridae_30863</td>\n",
       "      <td>Pomacentridae_30863</td>\n",
       "      <td>Chrysiptera_80978</td>\n",
       "      <td>Chrysiptera_galba_229101</td>\n",
       "    </tr>\n",
       "    <tr>\n",
       "      <th>3</th>\n",
       "      <td>Mammalia_40674</td>\n",
       "      <td>Rodentia_9989</td>\n",
       "      <td>Heteromyidae_10015</td>\n",
       "      <td>Chaetodipus_38664</td>\n",
       "      <td>Chaetodipus_goldmani_145411</td>\n",
       "    </tr>\n",
       "    <tr>\n",
       "      <th>4</th>\n",
       "      <td>Mammalia_40674</td>\n",
       "      <td>Chiroptera_9397</td>\n",
       "      <td>Cistugidae_3136025</td>\n",
       "      <td>Cistugo_712047</td>\n",
       "      <td>Cistugo_seabrae_712048</td>\n",
       "    </tr>\n",
       "    <tr>\n",
       "      <th>...</th>\n",
       "      <td>...</td>\n",
       "      <td>...</td>\n",
       "      <td>...</td>\n",
       "      <td>...</td>\n",
       "      <td>...</td>\n",
       "    </tr>\n",
       "    <tr>\n",
       "      <th>16055</th>\n",
       "      <td>Aves_8782</td>\n",
       "      <td>Caprimulgiformes_8902</td>\n",
       "      <td>Steatornithidae_48433</td>\n",
       "      <td>Steatornis_48434</td>\n",
       "      <td>Steatornis_caripensis_48435</td>\n",
       "    </tr>\n",
       "    <tr>\n",
       "      <th>16058</th>\n",
       "      <td>Aves_8782</td>\n",
       "      <td>Coraciiformes_8936</td>\n",
       "      <td>Brachypteraciidae_135163</td>\n",
       "      <td>Geobiastes_1977155</td>\n",
       "      <td>Geobiastes_squamiger_1977156</td>\n",
       "    </tr>\n",
       "    <tr>\n",
       "      <th>16059</th>\n",
       "      <td>Actinopteri_186623</td>\n",
       "      <td>Cypriniformes_7952</td>\n",
       "      <td>Leuciscidae_2743726</td>\n",
       "      <td>Ladigesocypris_108513</td>\n",
       "      <td>Ladigesocypris_ghigii_108514</td>\n",
       "    </tr>\n",
       "    <tr>\n",
       "      <th>16067</th>\n",
       "      <td>Actinopteri_186623</td>\n",
       "      <td>Siluriformes_7995</td>\n",
       "      <td>Bagridae_31013</td>\n",
       "      <td>Batasio_337693</td>\n",
       "      <td>Batasio_tigrinus_390466</td>\n",
       "    </tr>\n",
       "    <tr>\n",
       "      <th>16077</th>\n",
       "      <td>Mammalia_40674</td>\n",
       "      <td>Rodentia_9989</td>\n",
       "      <td>Cricetidae_337677</td>\n",
       "      <td>Cricetus_10033</td>\n",
       "      <td>Cricetus_cricetus_10034</td>\n",
       "    </tr>\n",
       "  </tbody>\n",
       "</table>\n",
       "<p>5046 rows × 5 columns</p>\n",
       "</div>"
      ],
      "text/plain": [
       "                        3                          4  \\\n",
       "0      Actinopteri_186623        Gobiiformes_1489878   \n",
       "1      Actinopteri_186623    Osteoglossiformes_41712   \n",
       "2      Actinopteri_186623  order_Pomacentridae_30863   \n",
       "3          Mammalia_40674              Rodentia_9989   \n",
       "4          Mammalia_40674            Chiroptera_9397   \n",
       "...                   ...                        ...   \n",
       "16055           Aves_8782      Caprimulgiformes_8902   \n",
       "16058           Aves_8782         Coraciiformes_8936   \n",
       "16059  Actinopteri_186623         Cypriniformes_7952   \n",
       "16067  Actinopteri_186623          Siluriformes_7995   \n",
       "16077      Mammalia_40674              Rodentia_9989   \n",
       "\n",
       "                              5                      6  \\\n",
       "0                 Gobiidae_8220        Sicyopus_936280   \n",
       "1          Osteoglossidae_27723      Scleropages_27726   \n",
       "2           Pomacentridae_30863      Chrysiptera_80978   \n",
       "3            Heteromyidae_10015      Chaetodipus_38664   \n",
       "4            Cistugidae_3136025         Cistugo_712047   \n",
       "...                         ...                    ...   \n",
       "16055     Steatornithidae_48433       Steatornis_48434   \n",
       "16058  Brachypteraciidae_135163     Geobiastes_1977155   \n",
       "16059       Leuciscidae_2743726  Ladigesocypris_108513   \n",
       "16067            Bagridae_31013         Batasio_337693   \n",
       "16077         Cricetidae_337677         Cricetus_10033   \n",
       "\n",
       "                                    7  \n",
       "0      Sicyopus_zosterophorus_1916785  \n",
       "1         Scleropages_formosus_113540  \n",
       "2            Chrysiptera_galba_229101  \n",
       "3         Chaetodipus_goldmani_145411  \n",
       "4              Cistugo_seabrae_712048  \n",
       "...                               ...  \n",
       "16055     Steatornis_caripensis_48435  \n",
       "16058    Geobiastes_squamiger_1977156  \n",
       "16059    Ladigesocypris_ghigii_108514  \n",
       "16067         Batasio_tigrinus_390466  \n",
       "16077         Cricetus_cricetus_10034  \n",
       "\n",
       "[5046 rows x 5 columns]"
      ]
     },
     "execution_count": 43,
     "metadata": {},
     "output_type": "execute_result"
    }
   ],
   "source": [
    "taxa_species = taxa.drop_duplicates(subset=6)\n",
    "taxa_species = taxa_species[taxa_species[6].isin(genus_df.genus)]\n",
    "taxa_species"
   ]
  },
  {
   "cell_type": "code",
   "execution_count": null,
   "metadata": {},
   "outputs": [
    {
     "data": {
      "application/vnd.microsoft.datawrangler.viewer.v0+json": {
       "columns": [
        {
         "name": "index",
         "rawType": "int64",
         "type": "integer"
        },
        {
         "name": "3",
         "rawType": "object",
         "type": "string"
        },
        {
         "name": "4",
         "rawType": "object",
         "type": "string"
        },
        {
         "name": "5",
         "rawType": "object",
         "type": "string"
        },
        {
         "name": "6",
         "rawType": "object",
         "type": "string"
        },
        {
         "name": "7",
         "rawType": "object",
         "type": "string"
        }
       ],
       "conversionMethod": "pd.DataFrame",
       "ref": "cfe2a933-c2cc-47fd-89d4-80008f1a1fbd",
       "rows": [
        [
         "415",
         "Aves_8782",
         "Passeriformes_9126",
         "family_Daphoenositta_254527",
         "Daphoenositta_254527",
         "Daphoenositta_chrysoptera_254528"
        ],
        [
         "647",
         "Aves_8782",
         "Procellariiformes_30449",
         "family_Oceanodroma_52123",
         "Oceanodroma_52123",
         "Oceanodroma_melania_79632"
        ],
        [
         "884",
         "Aves_8782",
         "Passeriformes_9126",
         "family_Pachycephala_46903",
         "Pachycephala_46903",
         "Pachycephala_melanura_381036"
        ],
        [
         "1854",
         "Aves_8782",
         "Procellariiformes_30449",
         "family_Fregetta_37072",
         "Fregetta_37072",
         "Fregetta_tropica_37073"
        ],
        [
         "2260",
         "Aves_8782",
         "Passeriformes_9126",
         "family_Turnagra_46905",
         "Turnagra_46905",
         "Turnagra_capensis_46906"
        ],
        [
         "2371",
         "Aves_8782",
         "Passeriformes_9126",
         "family_Eulacestoma_461238",
         "Eulacestoma_461238",
         "Eulacestoma_nigropectus_461239"
        ],
        [
         "2909",
         "Aves_8782",
         "Passeriformes_9126",
         "family_Rhagologus_156169",
         "Rhagologus_156169",
         "Rhagologus_leucostigma_156170"
        ],
        [
         "4153",
         "Actinopteri_186623",
         "Centrarchiformes_1489940",
         "family_Percalates_1545907",
         "Percalates_1545907",
         "Percalates_colonorum_135766"
        ],
        [
         "4682",
         "Actinopteri_186623",
         "Cypriniformes_7952",
         "family_Paedocypris_432420",
         "Paedocypris_432420",
         "Paedocypris_micromegethes_1093616"
        ],
        [
         "5453",
         "Aves_8782",
         "Passeriformes_9126",
         "family_Ornorectes_2497060",
         "Ornorectes_2497060",
         "Ornorectes_cristatus_254643"
        ],
        [
         "6214",
         "Aves_8782",
         "Procellariiformes_30449",
         "family_Garrodia_79648",
         "Garrodia_79648",
         "Garrodia_nereis_79649"
        ],
        [
         "6285",
         "Aves_8782",
         "Passeriformes_9126",
         "family_Falcunculus_254538",
         "Falcunculus_254538",
         "Falcunculus_frontatus_254539"
        ],
        [
         "6426",
         "Aves_8782",
         "Passeriformes_9126",
         "family_Oreoica_254565",
         "Oreoica_254565",
         "Oreoica_gutturalis_254566"
        ],
        [
         "7339",
         "Aves_8782",
         "Procellariiformes_30449",
         "family_Pelagodroma_37074",
         "Pelagodroma_37074",
         "Pelagodroma_marina_37075"
        ],
        [
         "7820",
         "Actinopteri_186623",
         "Perciformes_8111",
         "family_Bembrops_270608",
         "Bembrops_270608",
         "Bembrops_anatirostris_1206913"
        ],
        [
         "8499",
         "Aves_8782",
         "Procellariiformes_30449",
         "family_Oceanites_79652",
         "Oceanites_79652",
         "Oceanites_galapagoensis_1112095"
        ],
        [
         "9046",
         "Aves_8782",
         "Passeriformes_9126",
         "family_Aleadryas_461237",
         "Aleadryas_461237",
         "Aleadryas_rufinucha_461220"
        ],
        [
         "9647",
         "Aves_8782",
         "Procellariiformes_30449",
         "family_Hydrobates_79650",
         "Hydrobates_79650",
         "Hydrobates_pelagicus_79651"
        ],
        [
         "10354",
         "Aves_8782",
         "Passeriformes_9126",
         "family_Platysteira_107225",
         "Platysteira_107225",
         "Platysteira_castanea_1160851"
        ],
        [
         "12171",
         "Aves_8782",
         "Passeriformes_9126",
         "family_Colluricincla_156159",
         "Colluricincla_156159",
         "Colluricincla_harmonica_254449"
        ],
        [
         "14302",
         "Aves_8782",
         "Passeriformes_9126",
         "family_Myzornis_634317",
         "Myzornis_634317",
         "Myzornis_pyrrhoura_634318"
        ]
       ],
       "shape": {
        "columns": 5,
        "rows": 21
       }
      },
      "text/html": [
       "<div>\n",
       "<style scoped>\n",
       "    .dataframe tbody tr th:only-of-type {\n",
       "        vertical-align: middle;\n",
       "    }\n",
       "\n",
       "    .dataframe tbody tr th {\n",
       "        vertical-align: top;\n",
       "    }\n",
       "\n",
       "    .dataframe thead th {\n",
       "        text-align: right;\n",
       "    }\n",
       "</style>\n",
       "<table border=\"1\" class=\"dataframe\">\n",
       "  <thead>\n",
       "    <tr style=\"text-align: right;\">\n",
       "      <th></th>\n",
       "      <th>3</th>\n",
       "      <th>4</th>\n",
       "      <th>5</th>\n",
       "      <th>6</th>\n",
       "      <th>7</th>\n",
       "    </tr>\n",
       "  </thead>\n",
       "  <tbody>\n",
       "    <tr>\n",
       "      <th>415</th>\n",
       "      <td>Aves_8782</td>\n",
       "      <td>Passeriformes_9126</td>\n",
       "      <td>family_Daphoenositta_254527</td>\n",
       "      <td>Daphoenositta_254527</td>\n",
       "      <td>Daphoenositta_chrysoptera_254528</td>\n",
       "    </tr>\n",
       "    <tr>\n",
       "      <th>647</th>\n",
       "      <td>Aves_8782</td>\n",
       "      <td>Procellariiformes_30449</td>\n",
       "      <td>family_Oceanodroma_52123</td>\n",
       "      <td>Oceanodroma_52123</td>\n",
       "      <td>Oceanodroma_melania_79632</td>\n",
       "    </tr>\n",
       "    <tr>\n",
       "      <th>884</th>\n",
       "      <td>Aves_8782</td>\n",
       "      <td>Passeriformes_9126</td>\n",
       "      <td>family_Pachycephala_46903</td>\n",
       "      <td>Pachycephala_46903</td>\n",
       "      <td>Pachycephala_melanura_381036</td>\n",
       "    </tr>\n",
       "    <tr>\n",
       "      <th>1854</th>\n",
       "      <td>Aves_8782</td>\n",
       "      <td>Procellariiformes_30449</td>\n",
       "      <td>family_Fregetta_37072</td>\n",
       "      <td>Fregetta_37072</td>\n",
       "      <td>Fregetta_tropica_37073</td>\n",
       "    </tr>\n",
       "    <tr>\n",
       "      <th>2260</th>\n",
       "      <td>Aves_8782</td>\n",
       "      <td>Passeriformes_9126</td>\n",
       "      <td>family_Turnagra_46905</td>\n",
       "      <td>Turnagra_46905</td>\n",
       "      <td>Turnagra_capensis_46906</td>\n",
       "    </tr>\n",
       "    <tr>\n",
       "      <th>2371</th>\n",
       "      <td>Aves_8782</td>\n",
       "      <td>Passeriformes_9126</td>\n",
       "      <td>family_Eulacestoma_461238</td>\n",
       "      <td>Eulacestoma_461238</td>\n",
       "      <td>Eulacestoma_nigropectus_461239</td>\n",
       "    </tr>\n",
       "    <tr>\n",
       "      <th>2909</th>\n",
       "      <td>Aves_8782</td>\n",
       "      <td>Passeriformes_9126</td>\n",
       "      <td>family_Rhagologus_156169</td>\n",
       "      <td>Rhagologus_156169</td>\n",
       "      <td>Rhagologus_leucostigma_156170</td>\n",
       "    </tr>\n",
       "    <tr>\n",
       "      <th>4153</th>\n",
       "      <td>Actinopteri_186623</td>\n",
       "      <td>Centrarchiformes_1489940</td>\n",
       "      <td>family_Percalates_1545907</td>\n",
       "      <td>Percalates_1545907</td>\n",
       "      <td>Percalates_colonorum_135766</td>\n",
       "    </tr>\n",
       "    <tr>\n",
       "      <th>4682</th>\n",
       "      <td>Actinopteri_186623</td>\n",
       "      <td>Cypriniformes_7952</td>\n",
       "      <td>family_Paedocypris_432420</td>\n",
       "      <td>Paedocypris_432420</td>\n",
       "      <td>Paedocypris_micromegethes_1093616</td>\n",
       "    </tr>\n",
       "    <tr>\n",
       "      <th>5453</th>\n",
       "      <td>Aves_8782</td>\n",
       "      <td>Passeriformes_9126</td>\n",
       "      <td>family_Ornorectes_2497060</td>\n",
       "      <td>Ornorectes_2497060</td>\n",
       "      <td>Ornorectes_cristatus_254643</td>\n",
       "    </tr>\n",
       "    <tr>\n",
       "      <th>6214</th>\n",
       "      <td>Aves_8782</td>\n",
       "      <td>Procellariiformes_30449</td>\n",
       "      <td>family_Garrodia_79648</td>\n",
       "      <td>Garrodia_79648</td>\n",
       "      <td>Garrodia_nereis_79649</td>\n",
       "    </tr>\n",
       "    <tr>\n",
       "      <th>6285</th>\n",
       "      <td>Aves_8782</td>\n",
       "      <td>Passeriformes_9126</td>\n",
       "      <td>family_Falcunculus_254538</td>\n",
       "      <td>Falcunculus_254538</td>\n",
       "      <td>Falcunculus_frontatus_254539</td>\n",
       "    </tr>\n",
       "    <tr>\n",
       "      <th>6426</th>\n",
       "      <td>Aves_8782</td>\n",
       "      <td>Passeriformes_9126</td>\n",
       "      <td>family_Oreoica_254565</td>\n",
       "      <td>Oreoica_254565</td>\n",
       "      <td>Oreoica_gutturalis_254566</td>\n",
       "    </tr>\n",
       "    <tr>\n",
       "      <th>7339</th>\n",
       "      <td>Aves_8782</td>\n",
       "      <td>Procellariiformes_30449</td>\n",
       "      <td>family_Pelagodroma_37074</td>\n",
       "      <td>Pelagodroma_37074</td>\n",
       "      <td>Pelagodroma_marina_37075</td>\n",
       "    </tr>\n",
       "    <tr>\n",
       "      <th>7820</th>\n",
       "      <td>Actinopteri_186623</td>\n",
       "      <td>Perciformes_8111</td>\n",
       "      <td>family_Bembrops_270608</td>\n",
       "      <td>Bembrops_270608</td>\n",
       "      <td>Bembrops_anatirostris_1206913</td>\n",
       "    </tr>\n",
       "    <tr>\n",
       "      <th>8499</th>\n",
       "      <td>Aves_8782</td>\n",
       "      <td>Procellariiformes_30449</td>\n",
       "      <td>family_Oceanites_79652</td>\n",
       "      <td>Oceanites_79652</td>\n",
       "      <td>Oceanites_galapagoensis_1112095</td>\n",
       "    </tr>\n",
       "    <tr>\n",
       "      <th>9046</th>\n",
       "      <td>Aves_8782</td>\n",
       "      <td>Passeriformes_9126</td>\n",
       "      <td>family_Aleadryas_461237</td>\n",
       "      <td>Aleadryas_461237</td>\n",
       "      <td>Aleadryas_rufinucha_461220</td>\n",
       "    </tr>\n",
       "    <tr>\n",
       "      <th>9647</th>\n",
       "      <td>Aves_8782</td>\n",
       "      <td>Procellariiformes_30449</td>\n",
       "      <td>family_Hydrobates_79650</td>\n",
       "      <td>Hydrobates_79650</td>\n",
       "      <td>Hydrobates_pelagicus_79651</td>\n",
       "    </tr>\n",
       "    <tr>\n",
       "      <th>10354</th>\n",
       "      <td>Aves_8782</td>\n",
       "      <td>Passeriformes_9126</td>\n",
       "      <td>family_Platysteira_107225</td>\n",
       "      <td>Platysteira_107225</td>\n",
       "      <td>Platysteira_castanea_1160851</td>\n",
       "    </tr>\n",
       "    <tr>\n",
       "      <th>12171</th>\n",
       "      <td>Aves_8782</td>\n",
       "      <td>Passeriformes_9126</td>\n",
       "      <td>family_Colluricincla_156159</td>\n",
       "      <td>Colluricincla_156159</td>\n",
       "      <td>Colluricincla_harmonica_254449</td>\n",
       "    </tr>\n",
       "    <tr>\n",
       "      <th>14302</th>\n",
       "      <td>Aves_8782</td>\n",
       "      <td>Passeriformes_9126</td>\n",
       "      <td>family_Myzornis_634317</td>\n",
       "      <td>Myzornis_634317</td>\n",
       "      <td>Myzornis_pyrrhoura_634318</td>\n",
       "    </tr>\n",
       "  </tbody>\n",
       "</table>\n",
       "</div>"
      ],
      "text/plain": [
       "                        3                         4  \\\n",
       "415             Aves_8782        Passeriformes_9126   \n",
       "647             Aves_8782   Procellariiformes_30449   \n",
       "884             Aves_8782        Passeriformes_9126   \n",
       "1854            Aves_8782   Procellariiformes_30449   \n",
       "2260            Aves_8782        Passeriformes_9126   \n",
       "2371            Aves_8782        Passeriformes_9126   \n",
       "2909            Aves_8782        Passeriformes_9126   \n",
       "4153   Actinopteri_186623  Centrarchiformes_1489940   \n",
       "4682   Actinopteri_186623        Cypriniformes_7952   \n",
       "5453            Aves_8782        Passeriformes_9126   \n",
       "6214            Aves_8782   Procellariiformes_30449   \n",
       "6285            Aves_8782        Passeriformes_9126   \n",
       "6426            Aves_8782        Passeriformes_9126   \n",
       "7339            Aves_8782   Procellariiformes_30449   \n",
       "7820   Actinopteri_186623          Perciformes_8111   \n",
       "8499            Aves_8782   Procellariiformes_30449   \n",
       "9046            Aves_8782        Passeriformes_9126   \n",
       "9647            Aves_8782   Procellariiformes_30449   \n",
       "10354           Aves_8782        Passeriformes_9126   \n",
       "12171           Aves_8782        Passeriformes_9126   \n",
       "14302           Aves_8782        Passeriformes_9126   \n",
       "\n",
       "                                 5                     6  \\\n",
       "415    family_Daphoenositta_254527  Daphoenositta_254527   \n",
       "647       family_Oceanodroma_52123     Oceanodroma_52123   \n",
       "884      family_Pachycephala_46903    Pachycephala_46903   \n",
       "1854         family_Fregetta_37072        Fregetta_37072   \n",
       "2260         family_Turnagra_46905        Turnagra_46905   \n",
       "2371     family_Eulacestoma_461238    Eulacestoma_461238   \n",
       "2909      family_Rhagologus_156169     Rhagologus_156169   \n",
       "4153     family_Percalates_1545907    Percalates_1545907   \n",
       "4682     family_Paedocypris_432420    Paedocypris_432420   \n",
       "5453     family_Ornorectes_2497060    Ornorectes_2497060   \n",
       "6214         family_Garrodia_79648        Garrodia_79648   \n",
       "6285     family_Falcunculus_254538    Falcunculus_254538   \n",
       "6426         family_Oreoica_254565        Oreoica_254565   \n",
       "7339      family_Pelagodroma_37074     Pelagodroma_37074   \n",
       "7820        family_Bembrops_270608       Bembrops_270608   \n",
       "8499        family_Oceanites_79652       Oceanites_79652   \n",
       "9046       family_Aleadryas_461237      Aleadryas_461237   \n",
       "9647       family_Hydrobates_79650      Hydrobates_79650   \n",
       "10354    family_Platysteira_107225    Platysteira_107225   \n",
       "12171  family_Colluricincla_156159  Colluricincla_156159   \n",
       "14302       family_Myzornis_634317       Myzornis_634317   \n",
       "\n",
       "                                       7  \n",
       "415     Daphoenositta_chrysoptera_254528  \n",
       "647            Oceanodroma_melania_79632  \n",
       "884         Pachycephala_melanura_381036  \n",
       "1854              Fregetta_tropica_37073  \n",
       "2260             Turnagra_capensis_46906  \n",
       "2371      Eulacestoma_nigropectus_461239  \n",
       "2909       Rhagologus_leucostigma_156170  \n",
       "4153         Percalates_colonorum_135766  \n",
       "4682   Paedocypris_micromegethes_1093616  \n",
       "5453         Ornorectes_cristatus_254643  \n",
       "6214               Garrodia_nereis_79649  \n",
       "6285        Falcunculus_frontatus_254539  \n",
       "6426           Oreoica_gutturalis_254566  \n",
       "7339            Pelagodroma_marina_37075  \n",
       "7820       Bembrops_anatirostris_1206913  \n",
       "8499     Oceanites_galapagoensis_1112095  \n",
       "9046          Aleadryas_rufinucha_461220  \n",
       "9647          Hydrobates_pelagicus_79651  \n",
       "10354       Platysteira_castanea_1160851  \n",
       "12171     Colluricincla_harmonica_254449  \n",
       "14302          Myzornis_pyrrhoura_634318  "
      ]
     },
     "execution_count": 51,
     "metadata": {},
     "output_type": "execute_result"
    }
   ],
   "source": [
    "# some species have no family name\n",
    "taxa_species[taxa_species[5].str.count('_') > 1]"
   ]
  },
  {
   "cell_type": "code",
   "execution_count": 56,
   "metadata": {},
   "outputs": [
    {
     "data": {
      "text/plain": [
       "<Axes: >"
      ]
     },
     "execution_count": 56,
     "metadata": {},
     "output_type": "execute_result"
    },
    {
     "data": {
      "image/png": "[encoded data removed]",
      "text/plain": [
       "<Figure size 640x480 with 1 Axes>"
      ]
     },
     "metadata": {},
     "output_type": "display_data"
    }
   ],
   "source": [
    "taxa_species.groupby(5)[7].count().hist(bins=40)"
   ]
  },
  {
   "cell_type": "code",
   "execution_count": 63,
   "metadata": {},
   "outputs": [
    {
     "data": {
      "text/plain": [
       "5047"
      ]
     },
     "execution_count": 63,
     "metadata": {},
     "output_type": "execute_result"
    }
   ],
   "source": [
    "selected_species = set(taxa_species[7])\n",
    "chord_sample = [x for x in verts if x.name.split(';')[-1] in selected_species]\n",
    "\n",
    "SeqIO.write(outgrp + chord_sample, 'vert_data/chordates_sample.fa', 'fasta-2line')"
   ]
  },
  {
   "cell_type": "code",
   "execution_count": 9,
   "metadata": {},
   "outputs": [
    {
     "data": {
      "text/plain": [
       "(['OUTGRP|HG931923', 'LC564971', 'MN885507', 'AY208568', 'AY926394'], 4992)"
      ]
     },
     "execution_count": 9,
     "metadata": {},
     "output_type": "execute_result"
    }
   ],
   "source": [
    "# next this fasta file was aligned as amino acids and manually filtered\n",
    "# now we load saved seq ids and again prepare nucleotide fasta\n",
    "with open('./vert_data/clear_seq_ids.txt') as fin:\n",
    "    saved_ids = [x.strip().split('.')[0] for x in fin.readlines()]\n",
    "saved_ids[:5], len(saved_ids)"
   ]
  },
  {
   "cell_type": "code",
   "execution_count": 28,
   "metadata": {},
   "outputs": [
    {
     "data": {
      "text/plain": [
       "4992"
      ]
     },
     "execution_count": 28,
     "metadata": {},
     "output_type": "execute_result"
    }
   ],
   "source": [
    "from copy import copy\n",
    "\n",
    "selected_species = set(saved_ids)\n",
    "chord_sample = [x for x in verts if x.name.split('.')[0] in selected_species]\n",
    "chord_sample_renamed = []\n",
    "for x in chord_sample:\n",
    "    x = copy(x)\n",
    "    x.id = x.name.split(';')[-1]\n",
    "    x.name = x.name.split(';')[-1]\n",
    "    x.description = x.name.split(';')[-1]\n",
    "    chord_sample_renamed.append(x)\n",
    "\n",
    "outgrp_renamed = copy(outgrp[0])\n",
    "outgrp_renamed.id = 'OUTGRP ' + outgrp_renamed.name.split(';')[-1]\n",
    "outgrp_renamed.name = ''\n",
    "outgrp_renamed.description = ''\n",
    "\n",
    "\n",
    "SeqIO.write([outgrp_renamed] + chord_sample_renamed, \n",
    "            'vert_data/chordates_sample_v2.fa', 'fasta-2line')"
   ]
  },
  {
   "cell_type": "markdown",
   "metadata": {},
   "source": []
  },
  {
   "cell_type": "code",
   "execution_count": 29,
   "metadata": {},
   "outputs": [
    {
     "data": {
      "text/plain": [
       "''"
      ]
     },
     "execution_count": 29,
     "metadata": {},
     "output_type": "execute_result"
    }
   ],
   "source": [
    "outgrp_renamed.name"
   ]
  },
  {
   "cell_type": "code",
   "execution_count": 25,
   "metadata": {},
   "outputs": [
    {
     "data": {
      "text/plain": [
       "'HG931923.1.7035.8148###root_1;Eukaryota_2759;Chordata_7711;Ascidiacea_7713;Stolidobranchia_7720;Styelidae_7721;Botryllus_30300;Botryllus_schlosseri_30301'"
      ]
     },
     "execution_count": 25,
     "metadata": {},
     "output_type": "execute_result"
    }
   ],
   "source": [
    "outgrp[0].name"
   ]
  }
 ],
 "metadata": {
  "kernelspec": {
   "display_name": ".venv",
   "language": "python",
   "name": "python3"
  },
  "language_info": {
   "codemirror_mode": {
    "name": "ipython",
    "version": 3
   },
   "file_extension": ".py",
   "mimetype": "text/x-python",
   "name": "python",
   "nbconvert_exporter": "python",
   "pygments_lexer": "ipython3",
   "version": "3.10.12"
  }
 },
 "nbformat": 4,
 "nbformat_minor": 2
}
