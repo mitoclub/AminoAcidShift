{
 "cells": [
  {
   "cell_type": "code",
   "execution_count": 15,
   "metadata": {},
   "outputs": [],
   "source": [
    "from collections import Counter\n",
    "from Bio import SeqIO\n",
    "import matplotlib.pyplot as plt\n",
    "import random\n",
    "import pandas as pd"
   ]
  },
  {
   "cell_type": "code",
   "execution_count": 2,
   "metadata": {},
   "outputs": [],
   "source": [
    "used_classes = {\n",
    "    'Actinopteri_186623',\n",
    "    'Aves_8782',\n",
    "    'Mammalia_40674',\n",
    "    'Lepidosauria_8504',\n",
    "    'Amphibia_8292',\n",
    "    'Chondrichthyes_7777',\n",
    "}"
   ]
  },
  {
   "cell_type": "code",
   "execution_count": 3,
   "metadata": {},
   "outputs": [
    {
     "data": {
      "image/png": "[encoded data removed]",
      "text/plain": [
       "<Figure size 640x480 with 1 Axes>"
      ]
     },
     "metadata": {},
     "output_type": "display_data"
    }
   ],
   "source": [
    "cytb_longest = SeqIO.parse('./vert_data/MIDORI2_LONGEST_NUC_GB264_Cytb_BLAST.fasta', 'fasta')\n",
    "human_size = 1140\n",
    "shift = 5\n",
    "sizes = []\n",
    "classes = []\n",
    "verts = []\n",
    "for rec in cytb_longest:\n",
    "    if 'Chordata_7711' in rec.name:\n",
    "        classes.append(rec.name.split(';')[3])\n",
    "        sizes.append(len(rec))\n",
    "        if human_size-shift < len(rec) < human_size+shift and rec.name.split(';')[3] in used_classes:\n",
    "            verts.append(rec)\n",
    "plt.hist([x for x in sizes if x > 1000], bins=100)\n",
    "plt.vlines([human_size-shift, human_size+shift], 0, 10000, 'r', '--')\n",
    "random.shuffle(verts)"
   ]
  },
  {
   "cell_type": "code",
   "execution_count": 4,
   "metadata": {},
   "outputs": [
    {
     "data": {
      "text/plain": [
       "Counter({'Actinopteri_186623': 13355,\n",
       "         'Aves_8782': 7282,\n",
       "         'Mammalia_40674': 5199,\n",
       "         'Lepidosauria_8504': 4615,\n",
       "         'Amphibia_8292': 3265,\n",
       "         'Chondrichthyes_7777': 407,\n",
       "         'class_Testudines_8459': 355,\n",
       "         'Ascidiacea_7713': 52,\n",
       "         'Hyperoartia_117569': 45,\n",
       "         'class_Crocodylia_1294634': 27,\n",
       "         'Cladistia_1338366': 12,\n",
       "         'Leptocardii_2682552': 8,\n",
       "         'Thaliacea_30304': 7,\n",
       "         'Myxini_117565': 6,\n",
       "         'class_Ceratodontiformes_2823314': 4,\n",
       "         'class_Coelacanthiformes_7894': 2})"
      ]
     },
     "execution_count": 4,
     "metadata": {},
     "output_type": "execute_result"
    }
   ],
   "source": [
    "Counter(classes)"
   ]
  },
  {
   "cell_type": "code",
   "execution_count": 5,
   "metadata": {},
   "outputs": [
    {
     "data": {
      "text/plain": [
       "(34641, 16078)"
      ]
     },
     "execution_count": 5,
     "metadata": {},
     "output_type": "execute_result"
    }
   ],
   "source": [
    "len(sizes), len(verts)"
   ]
  },
  {
   "cell_type": "code",
   "execution_count": 7,
   "metadata": {},
   "outputs": [
    {
     "data": {
      "text/plain": [
       "[SeqRecord(seq=Seq('ATTGTTATGTTTCGTAAAAATGAACTTGTTAGTCTTTTTTTAAGATCATTTAGT...GAT'), id='OUTGRP|HG931923.1.7035.8148###root_1;Eukaryota_2759;Chordata_7711;Ascidiacea_7713;Stolidobranchia_7720;Styelidae_7721;Botryllus_30300;Botryllus_schlosseri_30301', name='HG931923.1.7035.8148###root_1;Eukaryota_2759;Chordata_7711;Ascidiacea_7713;Stolidobranchia_7720;Styelidae_7721;Botryllus_30300;Botryllus_schlosseri_30301', description='HG931923.1.7035.8148###root_1;Eukaryota_2759;Chordata_7711;Ascidiacea_7713;Stolidobranchia_7720;Styelidae_7721;Botryllus_30300;Botryllus_schlosseri_30301', dbxrefs=[])]"
      ]
     },
     "execution_count": 7,
     "metadata": {},
     "output_type": "execute_result"
    },
    {
     "data": {
      "image/png": "[encoded data removed]",
      "text/plain": [
       "<Figure size 640x480 with 1 Axes>"
      ]
     },
     "metadata": {},
     "output_type": "display_data"
    }
   ],
   "source": [
    "cytb_longest = SeqIO.parse('./vert_data/MIDORI2_LONGEST_NUC_GB264_Cytb_BLAST.fasta', 'fasta')\n",
    "human_size = 1140\n",
    "shift = 30\n",
    "outgrp = []\n",
    "sizes = []\n",
    "for rec in cytb_longest:\n",
    "    if 'Ascidiacea_7713' in rec.name and len(rec) > 1000:\n",
    "        sizes.append(len(rec))\n",
    "        if human_size-shift < len(rec) < human_size+shift and rec.name.split(';')[3]:\n",
    "            outgrp.append(rec)\n",
    "            break\n",
    "plt.hist(sizes)\n",
    "outgrp[0].id = 'OUTGRP|' + outgrp[0].id\n",
    "outgrp"
   ]
  },
  {
   "cell_type": "code",
   "execution_count": 8,
   "metadata": {},
   "outputs": [
    {
     "data": {
      "text/plain": [
       "2001"
      ]
     },
     "execution_count": 8,
     "metadata": {},
     "output_type": "execute_result"
    }
   ],
   "source": [
    "SeqIO.write(outgrp + verts[:2000], 'vert_data/chordates2k.fa', 'fasta-2line')"
   ]
  },
  {
   "cell_type": "code",
   "execution_count": 9,
   "metadata": {},
   "outputs": [
    {
     "data": {
      "text/plain": [
       "Counter({'T': 517, 'A': 279, 'G': 176, 'C': 142})"
      ]
     },
     "execution_count": 9,
     "metadata": {},
     "output_type": "execute_result"
    }
   ],
   "source": [
    "Counter(outgrp[0].seq)"
   ]
  },
  {
   "cell_type": "code",
   "execution_count": 22,
   "metadata": {},
   "outputs": [
    {
     "data": {
      "application/vnd.microsoft.datawrangler.viewer.v0+json": {
       "columns": [
        {
         "name": "index",
         "rawType": "int64",
         "type": "integer"
        },
        {
         "name": "3",
         "rawType": "object",
         "type": "string"
        },
        {
         "name": "4",
         "rawType": "object",
         "type": "string"
        },
        {
         "name": "5",
         "rawType": "object",
         "type": "string"
        },
        {
         "name": "6",
         "rawType": "object",
         "type": "string"
        },
        {
         "name": "7",
         "rawType": "object",
         "type": "string"
        }
       ],
       "conversionMethod": "pd.DataFrame",
       "ref": "c94f99f3-fe39-48a9-ad83-b2c5a6cd595e",
       "rows": [
        [
         "0",
         "Mammalia_40674",
         "Eulipotyphla_9362",
         "Soricidae_9376",
         "Crocidura_36801",
         "Crocidura_suaveolens_52631"
        ],
        [
         "1",
         "Aves_8782",
         "Passeriformes_9126",
         "Paridae_9153",
         "Cyanistes_156562",
         "Cyanistes_cyanus_156570"
        ],
        [
         "2",
         "Mammalia_40674",
         "Rodentia_9989",
         "Muridae_10066",
         "Niviventer_69082",
         "Niviventer_culturatus_332666"
        ],
        [
         "3",
         "Actinopteri_186623",
         "Cypriniformes_7952",
         "Leuciscidae_2743726",
         "Squalius_233201",
         "Squalius_prespensis_882992"
        ],
        [
         "4",
         "Aves_8782",
         "Passeriformes_9126",
         "Phylloscopidae_1607688",
         "Phylloscopus_9181",
         "Phylloscopus_pulcher_56434"
        ],
        [
         "5",
         "Actinopteri_186623",
         "Myctophiformes_68514",
         "Myctophidae_68515",
         "Nannobrachium_153158",
         "Nannobrachium_lineatum_473324"
        ],
        [
         "6",
         "Actinopteri_186623",
         "Cypriniformes_7952",
         "Cyprinidae_7953",
         "Schizothorax_75361",
         "Schizothorax_yunnanensis_327693"
        ],
        [
         "7",
         "Mammalia_40674",
         "Rodentia_9989",
         "Abrocomidae_108853",
         "Abrocoma_108854",
         "Abrocoma_schistacea_3138032"
        ],
        [
         "8",
         "Actinopteri_186623",
         "Siluriformes_7995",
         "Pimelodidae_30998",
         "Rhamdia_55672",
         "Rhamdia_quelen_162147"
        ],
        [
         "9",
         "Amphibia_8292",
         "Caudata_8293",
         "Hynobiidae_30366",
         "Onychodactylus_113381",
         "Onychodactylus_zhangyapingi_1248183"
        ],
        [
         "10",
         "Actinopteri_186623",
         "Atheriniformes_8075",
         "Melanotaeniidae_30700",
         "Melanotaenia_32459",
         "Melanotaenia_mamahensis_1769399"
        ],
        [
         "11",
         "Actinopteri_186623",
         "order_Embiotocidae_50791",
         "Embiotocidae_50791",
         "Ditrema_83877",
         "Ditrema_temminckii_83878"
        ],
        [
         "12",
         "Actinopteri_186623",
         "Perciformes_8111",
         "Stichaeidae_30892",
         "Stichaeus_291110",
         "Stichaeus_punctatus_980344"
        ],
        [
         "13",
         "Aves_8782",
         "Passeriformes_9126",
         "Alaudidae_72205",
         "Melanocorypha_589657",
         "Melanocorypha_mongolica_670347"
        ],
        [
         "14",
         "Mammalia_40674",
         "Rodentia_9989",
         "Muridae_10066",
         "Soricomys_1932368",
         "Soricomys_musseri_1217603"
        ],
        [
         "15",
         "Aves_8782",
         "Passeriformes_9126",
         "Parulidae_400782",
         "Mniotilta_182935",
         "Mniotilta_varia_182936"
        ],
        [
         "16",
         "Lepidosauria_8504",
         "Squamata_8509",
         "Scincidae_66056",
         "Ctenotus_204894",
         "Ctenotus_strauchii_480786"
        ],
        [
         "17",
         "Actinopteri_186623",
         "Cichliformes_1489911",
         "Cichlidae_8113",
         "Mesonauta_74126",
         "Mesonauta_festivus_350777"
        ],
        [
         "18",
         "Mammalia_40674",
         "Rodentia_9989",
         "Cricetidae_337677",
         "Peromyscus_10040",
         "Peromyscus_nudipes_162314"
        ],
        [
         "19",
         "Mammalia_40674",
         "Rodentia_9989",
         "Muridae_10066",
         "Rattus_10114",
         "Rattus_nitidus_508668"
        ],
        [
         "20",
         "Actinopteri_186623",
         "Scombriformes_1489894",
         "Gempylidae_27767",
         "Thyrsites_499857",
         "Thyrsites_atun_499858"
        ],
        [
         "21",
         "Actinopteri_186623",
         "Stomiiformes_48438",
         "Phosichthyidae_210573",
         "Polymetme_700659",
         "Polymetme_thaeocoryla_700660"
        ],
        [
         "22",
         "Actinopteri_186623",
         "Blenniiformes_1489921",
         "Blenniidae_56718",
         "Omobranchus_57834",
         "Omobranchus_fasciolatoceps_57835"
        ],
        [
         "23",
         "Aves_8782",
         "Pelecaniformes_9205",
         "Threskiornithidae_33574",
         "Platalea_33577",
         "Platalea_leucorodia_257867"
        ],
        [
         "24",
         "Mammalia_40674",
         "Rodentia_9989",
         "Muridae_10066",
         "Leggadina_81934",
         "Leggadina_lakedownensis_81936"
        ],
        [
         "25",
         "Aves_8782",
         "Passeriformes_9126",
         "Ptilonorhynchidae_9164",
         "Sericulus_34936",
         "Sericulus_bakeri_507603"
        ],
        [
         "26",
         "Mammalia_40674",
         "Eulipotyphla_9362",
         "Soricidae_9376",
         "Crocidura_36801",
         "Crocidura_macmillani_561571"
        ],
        [
         "27",
         "Mammalia_40674",
         "Chiroptera_9397",
         "Pteropodidae_9398",
         "Ptenochirus_132906",
         "Ptenochirus_jagorii_2933645"
        ],
        [
         "28",
         "Mammalia_40674",
         "Rodentia_9989",
         "Spalacidae_337664",
         "Spalax_10062",
         "Spalax_arenarius_1026956"
        ],
        [
         "29",
         "Actinopteri_186623",
         "Cypriniformes_7952",
         "Cyprinidae_7953",
         "Incisilabeo_1204387",
         "Incisilabeo_behri_643446"
        ],
        [
         "30",
         "Actinopteri_186623",
         "Labriformes_1489928",
         "Labridae_8247",
         "Thalassoma_76337",
         "Thalassoma_jansenii_239046"
        ],
        [
         "31",
         "Actinopteri_186623",
         "Cypriniformes_7952",
         "Cyprinidae_7953",
         "Labeobarbus_467340",
         "Labeobarbus_zaphiri_137090"
        ],
        [
         "32",
         "Aves_8782",
         "Psittaciformes_9223",
         "Psittacidae_9224",
         "Pyrrhura_51909",
         "Pyrrhura_orcesi_311892"
        ],
        [
         "33",
         "Aves_8782",
         "Passeriformes_9126",
         "Timaliidae_9173",
         "Pomatorhinus_98147",
         "Pomatorhinus_hypoleucos_3149842"
        ],
        [
         "34",
         "Actinopteri_186623",
         "Syngnathiformes_129912",
         "Mullidae_30854",
         "Upeneus_115430",
         "Upeneus_nigromarginatus_1642185"
        ],
        [
         "35",
         "Actinopteri_186623",
         "Gobiiformes_1489878",
         "Gobiidae_8220",
         "Luciogobius_228540",
         "Luciogobius_platycephalus_646537"
        ],
        [
         "36",
         "Aves_8782",
         "Passeriformes_9126",
         "Certhiidae_66704",
         "Campylorhynchus_69502",
         "Campylorhynchus_megalopterus_241527"
        ],
        [
         "37",
         "Mammalia_40674",
         "Rodentia_9989",
         "Dipodidae_30648",
         "Jaculus_48867",
         "Jaculus_orientalis_48868"
        ],
        [
         "38",
         "Actinopteri_186623",
         "Cypriniformes_7952",
         "Cyprinidae_7953",
         "Sinocyclocheilus_75365",
         "Sinocyclocheilus_macrophthalmus_307967"
        ],
        [
         "39",
         "Actinopteri_186623",
         "Beryciformes_8277",
         "Cetomimidae_88666",
         "Eutaeniophorus_181428",
         "Eutaeniophorus_festivus_565079"
        ],
        [
         "40",
         "Actinopteri_186623",
         "order_Sciaenidae_30870",
         "Sciaenidae_30870",
         "Paralonchurus_1154681",
         "Paralonchurus_brasiliensis_1154682"
        ],
        [
         "41",
         "Actinopteri_186623",
         "order_Pomacanthidae_30862",
         "Pomacanthidae_30862",
         "Genicanthus_109911",
         "Genicanthus_lamarck_109912"
        ],
        [
         "42",
         "Actinopteri_186623",
         "Cypriniformes_7952",
         "Catostomidae_7968",
         "Ictiobus_7972",
         "Ictiobus_cyprinellus_143398"
        ],
        [
         "43",
         "Aves_8782",
         "Passeriformes_9126",
         "Thraupidae_400783",
         "Iridosornis_62211",
         "Iridosornis_jelskii_548507"
        ],
        [
         "44",
         "Lepidosauria_8504",
         "Squamata_8509",
         "Lacertidae_8522",
         "Eremias_52178",
         "Eremias_szczerbaki_2039369"
        ],
        [
         "45",
         "Mammalia_40674",
         "Lagomorpha_9975",
         "Ochotonidae_9976",
         "Ochotona_9977",
         "Ochotona_coreana_462300"
        ],
        [
         "46",
         "Aves_8782",
         "Caprimulgiformes_8902",
         "Caprimulgidae_48283",
         "Nyctiphrynus_57427",
         "Nyctiphrynus_ocellatus_382310"
        ],
        [
         "47",
         "Aves_8782",
         "Psittaciformes_9223",
         "Psittaculidae_1545690",
         "Oreopsittacus_176069",
         "Oreopsittacus_arfaki_176070"
        ],
        [
         "48",
         "Actinopteri_186623",
         "Anguilliformes_7933",
         "Ophichthidae_54912",
         "Apterichtus_1156448",
         "Apterichtus_klazingai_1188019"
        ],
        [
         "49",
         "Aves_8782",
         "Passeriformes_9126",
         "Leiothrichidae_1673678",
         "Trochalopteron_1673679",
         "Trochalopteron_lineatum_520172"
        ]
       ],
       "shape": {
        "columns": 5,
        "rows": 16078
       }
      },
      "text/html": [
       "<div>\n",
       "<style scoped>\n",
       "    .dataframe tbody tr th:only-of-type {\n",
       "        vertical-align: middle;\n",
       "    }\n",
       "\n",
       "    .dataframe tbody tr th {\n",
       "        vertical-align: top;\n",
       "    }\n",
       "\n",
       "    .dataframe thead th {\n",
       "        text-align: right;\n",
       "    }\n",
       "</style>\n",
       "<table border=\"1\" class=\"dataframe\">\n",
       "  <thead>\n",
       "    <tr style=\"text-align: right;\">\n",
       "      <th></th>\n",
       "      <th>3</th>\n",
       "      <th>4</th>\n",
       "      <th>5</th>\n",
       "      <th>6</th>\n",
       "      <th>7</th>\n",
       "    </tr>\n",
       "  </thead>\n",
       "  <tbody>\n",
       "    <tr>\n",
       "      <th>0</th>\n",
       "      <td>Mammalia_40674</td>\n",
       "      <td>Eulipotyphla_9362</td>\n",
       "      <td>Soricidae_9376</td>\n",
       "      <td>Crocidura_36801</td>\n",
       "      <td>Crocidura_suaveolens_52631</td>\n",
       "    </tr>\n",
       "    <tr>\n",
       "      <th>1</th>\n",
       "      <td>Aves_8782</td>\n",
       "      <td>Passeriformes_9126</td>\n",
       "      <td>Paridae_9153</td>\n",
       "      <td>Cyanistes_156562</td>\n",
       "      <td>Cyanistes_cyanus_156570</td>\n",
       "    </tr>\n",
       "    <tr>\n",
       "      <th>2</th>\n",
       "      <td>Mammalia_40674</td>\n",
       "      <td>Rodentia_9989</td>\n",
       "      <td>Muridae_10066</td>\n",
       "      <td>Niviventer_69082</td>\n",
       "      <td>Niviventer_culturatus_332666</td>\n",
       "    </tr>\n",
       "    <tr>\n",
       "      <th>3</th>\n",
       "      <td>Actinopteri_186623</td>\n",
       "      <td>Cypriniformes_7952</td>\n",
       "      <td>Leuciscidae_2743726</td>\n",
       "      <td>Squalius_233201</td>\n",
       "      <td>Squalius_prespensis_882992</td>\n",
       "    </tr>\n",
       "    <tr>\n",
       "      <th>4</th>\n",
       "      <td>Aves_8782</td>\n",
       "      <td>Passeriformes_9126</td>\n",
       "      <td>Phylloscopidae_1607688</td>\n",
       "      <td>Phylloscopus_9181</td>\n",
       "      <td>Phylloscopus_pulcher_56434</td>\n",
       "    </tr>\n",
       "    <tr>\n",
       "      <th>...</th>\n",
       "      <td>...</td>\n",
       "      <td>...</td>\n",
       "      <td>...</td>\n",
       "      <td>...</td>\n",
       "      <td>...</td>\n",
       "    </tr>\n",
       "    <tr>\n",
       "      <th>16073</th>\n",
       "      <td>Actinopteri_186623</td>\n",
       "      <td>Acanthuriformes_1489937</td>\n",
       "      <td>Acanthuridae_29146</td>\n",
       "      <td>Naso_75027</td>\n",
       "      <td>Naso_unicornis_175444</td>\n",
       "    </tr>\n",
       "    <tr>\n",
       "      <th>16074</th>\n",
       "      <td>Aves_8782</td>\n",
       "      <td>Galliformes_8976</td>\n",
       "      <td>Phasianidae_9005</td>\n",
       "      <td>Lophophorus_9039</td>\n",
       "      <td>Lophophorus_impejanus_9040</td>\n",
       "    </tr>\n",
       "    <tr>\n",
       "      <th>16075</th>\n",
       "      <td>Aves_8782</td>\n",
       "      <td>Passeriformes_9126</td>\n",
       "      <td>Thraupidae_400783</td>\n",
       "      <td>Stilpnia_2986137</td>\n",
       "      <td>Stilpnia_cayana_2986138</td>\n",
       "    </tr>\n",
       "    <tr>\n",
       "      <th>16076</th>\n",
       "      <td>Mammalia_40674</td>\n",
       "      <td>Rodentia_9989</td>\n",
       "      <td>Heteromyidae_10015</td>\n",
       "      <td>Perognathus_37442</td>\n",
       "      <td>Perognathus_alticolus_323380</td>\n",
       "    </tr>\n",
       "    <tr>\n",
       "      <th>16077</th>\n",
       "      <td>Actinopteri_186623</td>\n",
       "      <td>Siluriformes_7995</td>\n",
       "      <td>Mochokidae_31000</td>\n",
       "      <td>Chiloglanis_392958</td>\n",
       "      <td>Chiloglanis_bifurcus_2259723</td>\n",
       "    </tr>\n",
       "  </tbody>\n",
       "</table>\n",
       "<p>16078 rows × 5 columns</p>\n",
       "</div>"
      ],
      "text/plain": [
       "                        3                        4                       5  \\\n",
       "0          Mammalia_40674        Eulipotyphla_9362          Soricidae_9376   \n",
       "1               Aves_8782       Passeriformes_9126            Paridae_9153   \n",
       "2          Mammalia_40674            Rodentia_9989           Muridae_10066   \n",
       "3      Actinopteri_186623       Cypriniformes_7952     Leuciscidae_2743726   \n",
       "4               Aves_8782       Passeriformes_9126  Phylloscopidae_1607688   \n",
       "...                   ...                      ...                     ...   \n",
       "16073  Actinopteri_186623  Acanthuriformes_1489937      Acanthuridae_29146   \n",
       "16074           Aves_8782         Galliformes_8976        Phasianidae_9005   \n",
       "16075           Aves_8782       Passeriformes_9126       Thraupidae_400783   \n",
       "16076      Mammalia_40674            Rodentia_9989      Heteromyidae_10015   \n",
       "16077  Actinopteri_186623        Siluriformes_7995        Mochokidae_31000   \n",
       "\n",
       "                        6                             7  \n",
       "0         Crocidura_36801    Crocidura_suaveolens_52631  \n",
       "1        Cyanistes_156562       Cyanistes_cyanus_156570  \n",
       "2        Niviventer_69082  Niviventer_culturatus_332666  \n",
       "3         Squalius_233201    Squalius_prespensis_882992  \n",
       "4       Phylloscopus_9181    Phylloscopus_pulcher_56434  \n",
       "...                   ...                           ...  \n",
       "16073          Naso_75027         Naso_unicornis_175444  \n",
       "16074    Lophophorus_9039    Lophophorus_impejanus_9040  \n",
       "16075    Stilpnia_2986137       Stilpnia_cayana_2986138  \n",
       "16076   Perognathus_37442  Perognathus_alticolus_323380  \n",
       "16077  Chiloglanis_392958  Chiloglanis_bifurcus_2259723  \n",
       "\n",
       "[16078 rows x 5 columns]"
      ]
     },
     "execution_count": 22,
     "metadata": {},
     "output_type": "execute_result"
    }
   ],
   "source": [
    "taxa = pd.DataFrame([x.name.split(';') for x in verts]).iloc[:, 3:]\n",
    "taxa"
   ]
  },
  {
   "cell_type": "code",
   "execution_count": null,
   "metadata": {},
   "outputs": [],
   "source": [
    "# TODO prepare one species from genus"
   ]
  },
  {
   "cell_type": "code",
   "execution_count": 26,
   "metadata": {},
   "outputs": [
    {
     "data": {
      "text/plain": [
       "Etheostoma_54318      135\n",
       "Sebastes_34820        101\n",
       "Ctenotus_204894        93\n",
       "Myotis_9434            93\n",
       "Cobitis_47718          82\n",
       "                     ... \n",
       "Pelomys_121574          1\n",
       "Genyochromis_57302      1\n",
       "Alloophorus_208312      1\n",
       "Dacnomys_332663         1\n",
       "Wattsia_182663          1\n",
       "Name: 6, Length: 5095, dtype: int64"
      ]
     },
     "execution_count": 26,
     "metadata": {},
     "output_type": "execute_result"
    }
   ],
   "source": [
    "taxa[6].value_counts()"
   ]
  }
 ],
 "metadata": {
  "kernelspec": {
   "display_name": ".venv",
   "language": "python",
   "name": "python3"
  },
  "language_info": {
   "codemirror_mode": {
    "name": "ipython",
    "version": 3
   },
   "file_extension": ".py",
   "mimetype": "text/x-python",
   "name": "python",
   "nbconvert_exporter": "python",
   "pygments_lexer": "ipython3",
   "version": "3.10.12"
  }
 },
 "nbformat": 4,
 "nbformat_minor": 2
}
