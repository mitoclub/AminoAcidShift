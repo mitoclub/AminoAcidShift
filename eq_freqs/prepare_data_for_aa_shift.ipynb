{
 "cells": [
  {
   "cell_type": "code",
   "execution_count": 1,
   "metadata": {},
   "outputs": [],
   "source": [
    "import numpy as np\n",
    "import pandas as pd\n",
    "import matplotlib.pyplot as plt\n",
    "import seaborn as sns\n",
    "import seaborn.objects as so\n",
    "\n",
    "from pymutspec.draw import plot_mutspec12\n",
    "from pymutspec.annotation import CodonAnnotation\n",
    "from pymutspec.constants import possible_codons"
   ]
  },
  {
   "cell_type": "code",
   "execution_count": 2,
   "metadata": {},
   "outputs": [],
   "source": [
    "coda = CodonAnnotation(2)\n",
    "alphabet = 'ACGT'\n",
    "\n",
    "\n",
    "def collect_possible_changes():\n",
    "    nucls = alphabet\n",
    "    i = 1\n",
    "    data = []\n",
    "    for cdn1 in possible_codons:\n",
    "        aa1 = coda.translate_codon(cdn1)\n",
    "        for pic in range(3):\n",
    "            nuc1 = cdn1[pic]\n",
    "            for nuc2 in nucls:\n",
    "                if nuc1 == nuc2:\n",
    "                    continue\n",
    "                cdn2 = list(cdn1)\n",
    "                cdn2[pic] = nuc2\n",
    "                cdn2 = ''.join(cdn2)\n",
    "                aa2 = coda.translate_codon(cdn2)\n",
    "                is_syn = aa1 == aa2\n",
    "                sbs = f'{nuc1}>{nuc2}'\n",
    "                data.append((pic, cdn1, cdn2, aa1, aa2, is_syn, sbs))\n",
    "                i += 1\n",
    "\n",
    "    df_changes = pd.DataFrame(data, columns=['pic', 'cdn1', 'cdn2', 'aa1', 'aa2', 'is_syn', 'sbs'])\n",
    "    return df_changes\n",
    "\n",
    "\n",
    "def nuc_spectrum_to_matrix(spec):\n",
    "    '''\n",
    "    convert dictionary of mutation counts to mutation matrix\n",
    "    '''\n",
    "    M = np.zeros((4,4))\n",
    "    for i1,n1 in enumerate(alphabet):\n",
    "        for i2,n2 in enumerate(alphabet):\n",
    "            if n1!=n2:\n",
    "                M[i2,i1] = spec[f\"{n1}>{n2}\"]\n",
    "    # normalize off-diagonal rates (just for standardization, doesn't affect the results)\n",
    "    M /= M.sum()\n",
    "    # # will the diagonal with 'outflow' term to guarantee conservation of probability\n",
    "    d = M.sum(axis=0)\n",
    "    np.fill_diagonal(M,-d)\n",
    "\n",
    "    return M\n",
    "\n",
    "\n",
    "def cdn_spectrum_to_matrix(cdn_sbs):\n",
    "    '''\n",
    "    convert dictionary of mutation counts to mutation matrix\n",
    "    '''\n",
    "    n = len(possible_codons)\n",
    "    M = np.zeros((n, n))\n",
    "    for i1,cdn1 in enumerate(possible_codons):\n",
    "        for i2,cdn2 in enumerate(possible_codons):\n",
    "            if cdn1!=cdn2:\n",
    "                val = cdn_sbs[(cdn1, cdn2)] if (cdn1, cdn2) in cdn_sbs.index else 0.\n",
    "                M[i2,i1] = val\n",
    "    # normalize off-diagonal rates (just for standardization, doesn't affect the results)\n",
    "    M /= M.sum()\n",
    "    # will the diagonal with 'outflow' term to guarantee conservation of probability\n",
    "    d = M.sum(axis=0)\n",
    "    np.fill_diagonal(M,-d)\n",
    "    return M\n",
    "\n",
    "\n",
    "def get_equilibrium_probabilities(M):\n",
    "    evals, evecs = np.linalg.eig(M)\n",
    "    # find zero eigenvalue\n",
    "    ii = np.argmin(np.abs(evals))\n",
    "    assert np.abs(evals[ii])<1e-10\n",
    "    # pull out corresponding eigenvector, return normalized to sum_i p_i = 1\n",
    "    p = evecs[:,ii]\n",
    "    return p/p.sum()"
   ]
  },
  {
   "cell_type": "markdown",
   "metadata": {},
   "source": [
    "## Estimate equilibrium freqs"
   ]
  },
  {
   "cell_type": "code",
   "execution_count": 3,
   "metadata": {},
   "outputs": [
    {
     "data": {
      "application/vnd.microsoft.datawrangler.viewer.v0+json": {
       "columns": [
        {
         "name": "index",
         "rawType": "int64",
         "type": "integer"
        },
        {
         "name": "Gene",
         "rawType": "object",
         "type": "string"
        },
        {
         "name": "Class",
         "rawType": "object",
         "type": "string"
        },
        {
         "name": "Species",
         "rawType": "object",
         "type": "string"
        },
        {
         "name": "Mut",
         "rawType": "object",
         "type": "string"
        },
        {
         "name": "Observed",
         "rawType": "float64",
         "type": "float"
        },
        {
         "name": "Expected",
         "rawType": "float64",
         "type": "float"
        },
        {
         "name": "MutSpec",
         "rawType": "float64",
         "type": "float"
        }
       ],
       "conversionMethod": "pd.DataFrame",
       "ref": "8ff501a4-c48f-450c-952c-d110c2900c82",
       "rows": [
        [
         "0",
         "CO1",
         "Mammalia",
         "Crocuta_crocuta",
         "A>C",
         null,
         "115.06666666666663",
         "0.0"
        ],
        [
         "1",
         "CO1",
         "Mammalia",
         "Crocuta_crocuta",
         "A>G",
         "11.500444",
         "173.33333333333334",
         "0.1628182134518083"
        ],
        [
         "2",
         "CO1",
         "Mammalia",
         "Crocuta_crocuta",
         "A>T",
         null,
         "115.06666666666663",
         "0.0"
        ],
        [
         "3",
         "CO1",
         "Mammalia",
         "Crocuta_crocuta",
         "C>A",
         null,
         "71.46666666666665",
         "0.0"
        ],
        [
         "4",
         "CO1",
         "Mammalia",
         "Crocuta_crocuta",
         "C>G",
         null,
         "71.46666666666665",
         "0.0"
        ],
        [
         "5",
         "CO1",
         "Mammalia",
         "Crocuta_crocuta",
         "C>T",
         "14.854196",
         "185.8666666666667",
         "0.1961182937312487"
        ],
        [
         "6",
         "CO1",
         "Mammalia",
         "Crocuta_crocuta",
         "G>A",
         "9.121656",
         "52.46666666666666",
         "0.4266391279831949"
        ],
        [
         "7",
         "CO1",
         "Mammalia",
         "Crocuta_crocuta",
         "G>C",
         null,
         "26.06666666666667",
         "0.0"
        ],
        [
         "8",
         "CO1",
         "Mammalia",
         "Crocuta_crocuta",
         "G>T",
         null,
         "26.06666666666667",
         "0.0"
        ],
        [
         "9",
         "CO1",
         "Mammalia",
         "Crocuta_crocuta",
         "T>A",
         null,
         "64.13333333333333",
         "0.0"
        ],
        [
         "10",
         "CO1",
         "Mammalia",
         "Crocuta_crocuta",
         "T>C",
         "12.757234",
         "146.0",
         "0.214424364833748"
        ],
        [
         "11",
         "CO1",
         "Mammalia",
         "Crocuta_crocuta",
         "T>G",
         null,
         "64.13333333333333",
         "0.0"
        ],
        [
         "12",
         "CO1",
         "Mammalia",
         "Homo_sapiens",
         "A>C",
         "3.99971",
         "114.44689378757522",
         "0.006491398702844"
        ],
        [
         "13",
         "CO1",
         "Mammalia",
         "Homo_sapiens",
         "A>G",
         "135.624374",
         "183.31462925851724",
         "0.1374214138106406"
        ],
        [
         "14",
         "CO1",
         "Mammalia",
         "Homo_sapiens",
         "A>T",
         "4.0",
         "114.44689378757522",
         "0.0064918693633729"
        ],
        [
         "15",
         "CO1",
         "Mammalia",
         "Homo_sapiens",
         "C>A",
         "5.0",
         "97.27855711422842",
         "0.0095469945478364"
        ],
        [
         "16",
         "CO1",
         "Mammalia",
         "Homo_sapiens",
         "C>G",
         null,
         "97.27855711422842",
         "0.0"
        ],
        [
         "17",
         "CO1",
         "Mammalia",
         "Homo_sapiens",
         "C>T",
         "131.667949",
         "251.9599198396813",
         "0.0970649420472449"
        ],
        [
         "18",
         "CO1",
         "Mammalia",
         "Homo_sapiens",
         "G>A",
         "70.83459",
         "27.66332665330663",
         "0.4756141534669586"
        ],
        [
         "19",
         "CO1",
         "Mammalia",
         "Homo_sapiens",
         "G>C",
         "1.0",
         "15.555110220440936",
         "0.0119409999830218"
        ],
        [
         "20",
         "CO1",
         "Mammalia",
         "Homo_sapiens",
         "G>T",
         "1.0",
         "15.555110220440936",
         "0.0119409999830218"
        ],
        [
         "21",
         "CO1",
         "Mammalia",
         "Homo_sapiens",
         "T>A",
         "0.99796",
         "47.60721442885757",
         "0.0038936252880453"
        ],
        [
         "22",
         "CO1",
         "Mammalia",
         "Homo_sapiens",
         "T>C",
         "117.98073",
         "92.97795591182414",
         "0.2356920182865464"
        ],
        [
         "23",
         "CO1",
         "Mammalia",
         "Homo_sapiens",
         "T>G",
         "1.0",
         "47.60721442885757",
         "0.003901584520467"
        ],
        [
         "24",
         "CO1",
         "Mammalia",
         "Eothenomys_melanogaster",
         "A>C",
         "0.99981",
         "128.2857142857143",
         "0.0148175736002853"
        ],
        [
         "25",
         "CO1",
         "Mammalia",
         "Eothenomys_melanogaster",
         "A>G",
         "7.341107",
         "199.3333333333333",
         "0.0700195859708586"
        ],
        [
         "26",
         "CO1",
         "Mammalia",
         "Eothenomys_melanogaster",
         "A>T",
         null,
         "128.2857142857143",
         "0.0"
        ],
        [
         "27",
         "CO1",
         "Mammalia",
         "Eothenomys_melanogaster",
         "C>A",
         "0.99958",
         "77.90476190476188",
         "0.0243944744923243"
        ],
        [
         "28",
         "CO1",
         "Mammalia",
         "Eothenomys_melanogaster",
         "C>G",
         null,
         "77.90476190476188",
         "0.0"
        ],
        [
         "29",
         "CO1",
         "Mammalia",
         "Eothenomys_melanogaster",
         "C>T",
         "9.948167",
         "205.8095238095237",
         "0.0919000003193336"
        ],
        [
         "30",
         "CO1",
         "Mammalia",
         "Eothenomys_melanogaster",
         "G>A",
         "10.369909",
         "29.47619047619047",
         "0.668869672018848"
        ],
        [
         "31",
         "CO1",
         "Mammalia",
         "Eothenomys_melanogaster",
         "G>C",
         null,
         "18.809523809523814",
         "0.0"
        ],
        [
         "32",
         "CO1",
         "Mammalia",
         "Eothenomys_melanogaster",
         "G>T",
         null,
         "18.809523809523814",
         "0.0"
        ],
        [
         "33",
         "CO1",
         "Mammalia",
         "Eothenomys_melanogaster",
         "T>A",
         "0.503353",
         "51.1904761904762",
         "0.018694825054155"
        ],
        [
         "34",
         "CO1",
         "Mammalia",
         "Eothenomys_melanogaster",
         "T>C",
         "6.877367",
         "117.47619047619048",
         "0.111303868544195"
        ],
        [
         "35",
         "CO1",
         "Mammalia",
         "Eothenomys_melanogaster",
         "T>G",
         null,
         "51.1904761904762",
         "0.0"
        ],
        [
         "36",
         "CO1",
         "Mammalia",
         "Geomys_arenarius",
         "A>C",
         null,
         "117.16666666666669",
         "0.0"
        ],
        [
         "37",
         "CO1",
         "Mammalia",
         "Geomys_arenarius",
         "A>G",
         "2.99997",
         "188.5833333333333",
         "0.0630856415640135"
        ],
        [
         "38",
         "CO1",
         "Mammalia",
         "Geomys_arenarius",
         "A>T",
         null,
         "117.16666666666669",
         "0.0"
        ],
        [
         "39",
         "CO1",
         "Mammalia",
         "Geomys_arenarius",
         "C>A",
         null,
         "39.33333333333334",
         "0.0"
        ],
        [
         "40",
         "CO1",
         "Mammalia",
         "Geomys_arenarius",
         "C>G",
         null,
         "39.33333333333334",
         "0.0"
        ],
        [
         "41",
         "CO1",
         "Mammalia",
         "Geomys_arenarius",
         "C>T",
         "10.962312",
         "121.16666666666669",
         "0.3587863551235405"
        ],
        [
         "42",
         "CO1",
         "Mammalia",
         "Geomys_arenarius",
         "G>A",
         "1.870982",
         "38.75000000000001",
         "0.1914762100333147"
        ],
        [
         "43",
         "CO1",
         "Mammalia",
         "Geomys_arenarius",
         "G>C",
         "0.991221",
         "17.25",
         "0.2278758571449552"
        ],
        [
         "44",
         "CO1",
         "Mammalia",
         "Geomys_arenarius",
         "G>T",
         null,
         "17.25",
         "0.0"
        ],
        [
         "45",
         "CO1",
         "Mammalia",
         "Geomys_arenarius",
         "T>A",
         "0.99938",
         "90.33333333333331",
         "0.0438732228401957"
        ],
        [
         "46",
         "CO1",
         "Mammalia",
         "Geomys_arenarius",
         "T>C",
         "3.634556",
         "203.0",
         "0.071002272180294"
        ],
        [
         "47",
         "CO1",
         "Mammalia",
         "Geomys_arenarius",
         "T>G",
         "1.0",
         "90.33333333333331",
         "0.0439004411136862"
        ],
        [
         "48",
         "CO1",
         "Mammalia",
         "Urocyon_cinereoargenteus",
         "A>C",
         null,
         "96.31372549019602",
         "0.0"
        ],
        [
         "49",
         "CO1",
         "Mammalia",
         "Urocyon_cinereoargenteus",
         "A>G",
         "23.98412",
         "158.31372549019613",
         "0.1984257318855329"
        ]
       ],
       "shape": {
        "columns": 7,
        "rows": 34392
       }
      },
      "text/html": [
       "<div>\n",
       "<style scoped>\n",
       "    .dataframe tbody tr th:only-of-type {\n",
       "        vertical-align: middle;\n",
       "    }\n",
       "\n",
       "    .dataframe tbody tr th {\n",
       "        vertical-align: top;\n",
       "    }\n",
       "\n",
       "    .dataframe thead th {\n",
       "        text-align: right;\n",
       "    }\n",
       "</style>\n",
       "<table border=\"1\" class=\"dataframe\">\n",
       "  <thead>\n",
       "    <tr style=\"text-align: right;\">\n",
       "      <th></th>\n",
       "      <th>Gene</th>\n",
       "      <th>Class</th>\n",
       "      <th>Species</th>\n",
       "      <th>Mut</th>\n",
       "      <th>Observed</th>\n",
       "      <th>Expected</th>\n",
       "      <th>MutSpec</th>\n",
       "    </tr>\n",
       "  </thead>\n",
       "  <tbody>\n",
       "    <tr>\n",
       "      <th>0</th>\n",
       "      <td>CO1</td>\n",
       "      <td>Mammalia</td>\n",
       "      <td>Crocuta_crocuta</td>\n",
       "      <td>A&gt;C</td>\n",
       "      <td>NaN</td>\n",
       "      <td>115.066667</td>\n",
       "      <td>0.000000</td>\n",
       "    </tr>\n",
       "    <tr>\n",
       "      <th>1</th>\n",
       "      <td>CO1</td>\n",
       "      <td>Mammalia</td>\n",
       "      <td>Crocuta_crocuta</td>\n",
       "      <td>A&gt;G</td>\n",
       "      <td>11.500444</td>\n",
       "      <td>173.333333</td>\n",
       "      <td>0.162818</td>\n",
       "    </tr>\n",
       "    <tr>\n",
       "      <th>2</th>\n",
       "      <td>CO1</td>\n",
       "      <td>Mammalia</td>\n",
       "      <td>Crocuta_crocuta</td>\n",
       "      <td>A&gt;T</td>\n",
       "      <td>NaN</td>\n",
       "      <td>115.066667</td>\n",
       "      <td>0.000000</td>\n",
       "    </tr>\n",
       "    <tr>\n",
       "      <th>3</th>\n",
       "      <td>CO1</td>\n",
       "      <td>Mammalia</td>\n",
       "      <td>Crocuta_crocuta</td>\n",
       "      <td>C&gt;A</td>\n",
       "      <td>NaN</td>\n",
       "      <td>71.466667</td>\n",
       "      <td>0.000000</td>\n",
       "    </tr>\n",
       "    <tr>\n",
       "      <th>4</th>\n",
       "      <td>CO1</td>\n",
       "      <td>Mammalia</td>\n",
       "      <td>Crocuta_crocuta</td>\n",
       "      <td>C&gt;G</td>\n",
       "      <td>NaN</td>\n",
       "      <td>71.466667</td>\n",
       "      <td>0.000000</td>\n",
       "    </tr>\n",
       "    <tr>\n",
       "      <th>...</th>\n",
       "      <td>...</td>\n",
       "      <td>...</td>\n",
       "      <td>...</td>\n",
       "      <td>...</td>\n",
       "      <td>...</td>\n",
       "      <td>...</td>\n",
       "      <td>...</td>\n",
       "    </tr>\n",
       "    <tr>\n",
       "      <th>34387</th>\n",
       "      <td>CO3</td>\n",
       "      <td>Actinopteri</td>\n",
       "      <td>Cottus_gulosus</td>\n",
       "      <td>G&gt;C</td>\n",
       "      <td>NaN</td>\n",
       "      <td>7.166667</td>\n",
       "      <td>0.000000</td>\n",
       "    </tr>\n",
       "    <tr>\n",
       "      <th>34388</th>\n",
       "      <td>CO3</td>\n",
       "      <td>Actinopteri</td>\n",
       "      <td>Cottus_gulosus</td>\n",
       "      <td>G&gt;T</td>\n",
       "      <td>NaN</td>\n",
       "      <td>7.166667</td>\n",
       "      <td>0.000000</td>\n",
       "    </tr>\n",
       "    <tr>\n",
       "      <th>34389</th>\n",
       "      <td>CO3</td>\n",
       "      <td>Actinopteri</td>\n",
       "      <td>Cottus_gulosus</td>\n",
       "      <td>T&gt;A</td>\n",
       "      <td>0.600700</td>\n",
       "      <td>32.500000</td>\n",
       "      <td>0.029888</td>\n",
       "    </tr>\n",
       "    <tr>\n",
       "      <th>34390</th>\n",
       "      <td>CO3</td>\n",
       "      <td>Actinopteri</td>\n",
       "      <td>Cottus_gulosus</td>\n",
       "      <td>T&gt;C</td>\n",
       "      <td>1.384498</td>\n",
       "      <td>64.916667</td>\n",
       "      <td>0.034487</td>\n",
       "    </tr>\n",
       "    <tr>\n",
       "      <th>34391</th>\n",
       "      <td>CO3</td>\n",
       "      <td>Actinopteri</td>\n",
       "      <td>Cottus_gulosus</td>\n",
       "      <td>T&gt;G</td>\n",
       "      <td>NaN</td>\n",
       "      <td>32.500000</td>\n",
       "      <td>0.000000</td>\n",
       "    </tr>\n",
       "  </tbody>\n",
       "</table>\n",
       "<p>34392 rows × 7 columns</p>\n",
       "</div>"
      ],
      "text/plain": [
       "      Gene        Class          Species  Mut   Observed    Expected   MutSpec\n",
       "0      CO1     Mammalia  Crocuta_crocuta  A>C        NaN  115.066667  0.000000\n",
       "1      CO1     Mammalia  Crocuta_crocuta  A>G  11.500444  173.333333  0.162818\n",
       "2      CO1     Mammalia  Crocuta_crocuta  A>T        NaN  115.066667  0.000000\n",
       "3      CO1     Mammalia  Crocuta_crocuta  C>A        NaN   71.466667  0.000000\n",
       "4      CO1     Mammalia  Crocuta_crocuta  C>G        NaN   71.466667  0.000000\n",
       "...    ...          ...              ...  ...        ...         ...       ...\n",
       "34387  CO3  Actinopteri   Cottus_gulosus  G>C        NaN    7.166667  0.000000\n",
       "34388  CO3  Actinopteri   Cottus_gulosus  G>T        NaN    7.166667  0.000000\n",
       "34389  CO3  Actinopteri   Cottus_gulosus  T>A   0.600700   32.500000  0.029888\n",
       "34390  CO3  Actinopteri   Cottus_gulosus  T>C   1.384498   64.916667  0.034487\n",
       "34391  CO3  Actinopteri   Cottus_gulosus  T>G        NaN   32.500000  0.000000\n",
       "\n",
       "[34392 rows x 7 columns]"
      ]
     },
     "execution_count": 3,
     "metadata": {},
     "output_type": "execute_result"
    }
   ],
   "source": [
    "ms12 = pd.read_csv('../../192/1data_derivation/dataset/MutSpecVertebrates12.csv.gz')\n",
    "ms12"
   ]
  },
  {
   "cell_type": "code",
   "execution_count": 4,
   "metadata": {},
   "outputs": [],
   "source": [
    "amino_acid_codes = {\n",
    "    \"A\": \"Ala\",\n",
    "    \"R\": \"Arg\",\n",
    "    \"N\": \"Asn\",\n",
    "    \"D\": \"Asp\",\n",
    "    \"C\": \"Cys\",\n",
    "    \"Q\": \"Gln\",\n",
    "    \"E\": \"Glu\",\n",
    "    \"G\": \"Gly\",\n",
    "    \"H\": \"His\",\n",
    "    \"I\": \"Ile\",\n",
    "    \"L\": \"Leu\",\n",
    "    \"K\": \"Lys\",\n",
    "    \"M\": \"Met\",\n",
    "    \"F\": \"Phe\",\n",
    "    \"P\": \"Pro\",\n",
    "    \"S\": \"Ser\",\n",
    "    \"T\": \"Thr\",\n",
    "    \"W\": \"Trp\",\n",
    "    \"Y\": \"Tyr\",\n",
    "    \"V\": \"Val\",\n",
    "    \"*\": \"*\",\n",
    "}"
   ]
  },
  {
   "cell_type": "markdown",
   "metadata": {},
   "source": [
    "## Mean vertebrates spectra"
   ]
  },
  {
   "cell_type": "code",
   "execution_count": 5,
   "metadata": {},
   "outputs": [
    {
     "name": "stdout",
     "output_type": "stream",
     "text": [
      "  nucl      freq\n",
      "0    A  0.430401\n",
      "1    C  0.298899\n",
      "2    G  0.083848\n",
      "3    T  0.186852\n",
      "    cdn      freq   aa\n",
      "0   AAA  0.079730  Lys\n",
      "1   AAC  0.055370  Asn\n",
      "2   AAG  0.015532  Lys\n",
      "3   AAT  0.034613  Asn\n",
      "4   ACA  0.055370  Thr\n",
      "..  ...       ...  ...\n",
      "59  TGT  0.002927  Cys\n",
      "60  TTA  0.015027  Leu\n",
      "61  TTC  0.010436  Phe\n",
      "62  TTG  0.002927  Leu\n",
      "63  TTT  0.006524  Phe\n",
      "\n",
      "[64 rows x 3 columns]\n"
     ]
    },
    {
     "name": "stderr",
     "output_type": "stream",
     "text": [
      "/tmp/ipykernel_17554/2932968184.py:16: ComplexWarning: Casting complex values to real discards the imaginary part\n",
      "  eq_prob = get_equilibrium_probabilities(M).astype(float)\n"
     ]
    }
   ],
   "source": [
    "mean_vert_ms12 = ms12[ms12.Gene == 'Cytb'].groupby(['Mut']).MutSpec.mean().to_dict()\n",
    "df_changes = collect_possible_changes()\n",
    "\n",
    "M = nuc_spectrum_to_matrix(mean_vert_ms12)\n",
    "eq_prob = get_equilibrium_probabilities(M).astype(float)\n",
    "nucl_eq = pd.Series(dict(zip(alphabet, eq_prob)))\n",
    "nucl_eq.name = 'freq'\n",
    "nucl_eq.index.name = 'nucl'\n",
    "nucl_eq = nucl_eq.reset_index()\n",
    "print(nucl_eq)\n",
    "\n",
    "\n",
    "df_changes['rate'] = df_changes['sbs'].map(mean_vert_ms12)\n",
    "cdn_sbs = df_changes.groupby(['cdn1', 'cdn2'])['rate'].sum()\n",
    "M = cdn_spectrum_to_matrix(cdn_sbs)\n",
    "eq_prob = get_equilibrium_probabilities(M).astype(float)\n",
    "\n",
    "eq_freqs = pd.Series(dict(zip(possible_codons, eq_prob)))\n",
    "eq_freqs.name = 'freq'\n",
    "eq_freqs.index.name = 'cdn'\n",
    "eq_freqs = eq_freqs.reset_index()\n",
    "eq_freqs['aa'] = eq_freqs['cdn'].map(coda.translate_codon).map(amino_acid_codes)\n",
    "print(eq_freqs)"
   ]
  },
  {
   "cell_type": "code",
   "execution_count": 6,
   "metadata": {},
   "outputs": [
    {
     "data": {
      "application/vnd.microsoft.datawrangler.viewer.v0+json": {
       "columns": [
        {
         "name": "index",
         "rawType": "int64",
         "type": "integer"
        },
        {
         "name": "aa",
         "rawType": "object",
         "type": "string"
        },
        {
         "name": "freq",
         "rawType": "float64",
         "type": "float"
        }
       ],
       "conversionMethod": "pd.DataFrame",
       "ref": "e687d515-f97e-4b05-9696-86addf0eb1d6",
       "rows": [
        [
         "0",
         "Thr",
         "0.13684575949295624"
        ],
        [
         "1",
         "Lys",
         "0.10133355377209842"
        ],
        [
         "2",
         "Asn",
         "0.09571801344975243"
        ],
        [
         "3",
         "Pro",
         "0.09503482847269315"
        ],
        [
         "4",
         "Leu",
         "0.07850790898340387"
        ],
        [
         "5",
         "Ser",
         "0.0780564448215916"
        ],
        [
         "6",
         "Gln",
         "0.07037278273687003"
        ],
        [
         "7",
         "His",
         "0.06647297675608577"
        ],
        [
         "8",
         "Met",
         "0.043992314463671967"
        ],
        [
         "9",
         "Tyr",
         "0.041554418953763654"
        ],
        [
         "10",
         "Ile",
         "0.041554418953763585"
        ],
        [
         "11",
         "Ala",
         "0.026659290620830608"
        ],
        [
         "12",
         "Arg",
         "0.026659290620830573"
        ],
        [
         "13",
         "Glu",
         "0.01974106227084805"
        ],
        [
         "14",
         "Asp",
         "0.01864708375078934"
        ],
        [
         "15",
         "Phe",
         "0.018040175222518353"
        ],
        [
         "16",
         "Val",
         "0.016665589319598415"
        ],
        [
         "17",
         "Trp",
         "0.008570261151792357"
        ],
        [
         "18",
         "Cys",
         "0.008095328167806028"
        ],
        [
         "19",
         "Gly",
         "0.007478498018335673"
        ]
       ],
       "shape": {
        "columns": 2,
        "rows": 20
       }
      },
      "text/html": [
       "<div>\n",
       "<style scoped>\n",
       "    .dataframe tbody tr th:only-of-type {\n",
       "        vertical-align: middle;\n",
       "    }\n",
       "\n",
       "    .dataframe tbody tr th {\n",
       "        vertical-align: top;\n",
       "    }\n",
       "\n",
       "    .dataframe thead th {\n",
       "        text-align: right;\n",
       "    }\n",
       "</style>\n",
       "<table border=\"1\" class=\"dataframe\">\n",
       "  <thead>\n",
       "    <tr style=\"text-align: right;\">\n",
       "      <th></th>\n",
       "      <th>aa</th>\n",
       "      <th>freq</th>\n",
       "    </tr>\n",
       "  </thead>\n",
       "  <tbody>\n",
       "    <tr>\n",
       "      <th>0</th>\n",
       "      <td>Thr</td>\n",
       "      <td>0.136846</td>\n",
       "    </tr>\n",
       "    <tr>\n",
       "      <th>1</th>\n",
       "      <td>Lys</td>\n",
       "      <td>0.101334</td>\n",
       "    </tr>\n",
       "    <tr>\n",
       "      <th>2</th>\n",
       "      <td>Asn</td>\n",
       "      <td>0.095718</td>\n",
       "    </tr>\n",
       "    <tr>\n",
       "      <th>3</th>\n",
       "      <td>Pro</td>\n",
       "      <td>0.095035</td>\n",
       "    </tr>\n",
       "    <tr>\n",
       "      <th>4</th>\n",
       "      <td>Leu</td>\n",
       "      <td>0.078508</td>\n",
       "    </tr>\n",
       "    <tr>\n",
       "      <th>5</th>\n",
       "      <td>Ser</td>\n",
       "      <td>0.078056</td>\n",
       "    </tr>\n",
       "    <tr>\n",
       "      <th>6</th>\n",
       "      <td>Gln</td>\n",
       "      <td>0.070373</td>\n",
       "    </tr>\n",
       "    <tr>\n",
       "      <th>7</th>\n",
       "      <td>His</td>\n",
       "      <td>0.066473</td>\n",
       "    </tr>\n",
       "    <tr>\n",
       "      <th>8</th>\n",
       "      <td>Met</td>\n",
       "      <td>0.043992</td>\n",
       "    </tr>\n",
       "    <tr>\n",
       "      <th>9</th>\n",
       "      <td>Tyr</td>\n",
       "      <td>0.041554</td>\n",
       "    </tr>\n",
       "    <tr>\n",
       "      <th>10</th>\n",
       "      <td>Ile</td>\n",
       "      <td>0.041554</td>\n",
       "    </tr>\n",
       "    <tr>\n",
       "      <th>11</th>\n",
       "      <td>Ala</td>\n",
       "      <td>0.026659</td>\n",
       "    </tr>\n",
       "    <tr>\n",
       "      <th>12</th>\n",
       "      <td>Arg</td>\n",
       "      <td>0.026659</td>\n",
       "    </tr>\n",
       "    <tr>\n",
       "      <th>13</th>\n",
       "      <td>Glu</td>\n",
       "      <td>0.019741</td>\n",
       "    </tr>\n",
       "    <tr>\n",
       "      <th>14</th>\n",
       "      <td>Asp</td>\n",
       "      <td>0.018647</td>\n",
       "    </tr>\n",
       "    <tr>\n",
       "      <th>15</th>\n",
       "      <td>Phe</td>\n",
       "      <td>0.018040</td>\n",
       "    </tr>\n",
       "    <tr>\n",
       "      <th>16</th>\n",
       "      <td>Val</td>\n",
       "      <td>0.016666</td>\n",
       "    </tr>\n",
       "    <tr>\n",
       "      <th>17</th>\n",
       "      <td>Trp</td>\n",
       "      <td>0.008570</td>\n",
       "    </tr>\n",
       "    <tr>\n",
       "      <th>18</th>\n",
       "      <td>Cys</td>\n",
       "      <td>0.008095</td>\n",
       "    </tr>\n",
       "    <tr>\n",
       "      <th>19</th>\n",
       "      <td>Gly</td>\n",
       "      <td>0.007478</td>\n",
       "    </tr>\n",
       "  </tbody>\n",
       "</table>\n",
       "</div>"
      ],
      "text/plain": [
       "     aa      freq\n",
       "0   Thr  0.136846\n",
       "1   Lys  0.101334\n",
       "2   Asn  0.095718\n",
       "3   Pro  0.095035\n",
       "4   Leu  0.078508\n",
       "5   Ser  0.078056\n",
       "6   Gln  0.070373\n",
       "7   His  0.066473\n",
       "8   Met  0.043992\n",
       "9   Tyr  0.041554\n",
       "10  Ile  0.041554\n",
       "11  Ala  0.026659\n",
       "12  Arg  0.026659\n",
       "13  Glu  0.019741\n",
       "14  Asp  0.018647\n",
       "15  Phe  0.018040\n",
       "16  Val  0.016666\n",
       "17  Trp  0.008570\n",
       "18  Cys  0.008095\n",
       "19  Gly  0.007478"
      ]
     },
     "execution_count": 6,
     "metadata": {},
     "output_type": "execute_result"
    }
   ],
   "source": [
    "eq_freqs_aa_only = eq_freqs[eq_freqs.aa !='*'].groupby('aa')['freq'].sum()\n",
    "eq_freqs_aa_only /= eq_freqs_aa_only.sum()\n",
    "eq_freqs_aa_only = eq_freqs_aa_only.sort_values(ascending=False).reset_index()\n",
    "eq_freqs_aa_only.to_csv('./data/vert_aa_eq_freqs.csv', index=False)\n",
    "eq_freqs_aa_only"
   ]
  },
  {
   "cell_type": "code",
   "execution_count": 7,
   "metadata": {},
   "outputs": [],
   "source": [
    "eq_freqs.to_csv('./data/vert_cdn_eq_freqs.csv', index=False)"
   ]
  },
  {
   "cell_type": "code",
   "execution_count": 8,
   "metadata": {},
   "outputs": [
    {
     "data": {
      "image/png": "[encoded data removed]",
      "text/plain": [
       "<Figure size 1000x400 with 1 Axes>"
      ]
     },
     "metadata": {},
     "output_type": "display_data"
    }
   ],
   "source": [
    "plt.figure(figsize=(10, 4))\n",
    "ax = sns.barplot(eq_freqs_aa_only, x='aa', y='freq', palette='gray', edgecolor=\".85\")"
   ]
  },
  {
   "cell_type": "markdown",
   "metadata": {},
   "source": [
    "## Mean classes spectra"
   ]
  },
  {
   "cell_type": "code",
   "execution_count": 5,
   "metadata": {},
   "outputs": [
    {
     "data": {
      "application/vnd.microsoft.datawrangler.viewer.v0+json": {
       "columns": [
        {
         "name": "Class",
         "rawType": "object",
         "type": "string"
        },
        {
         "name": "A>C",
         "rawType": "float64",
         "type": "float"
        },
        {
         "name": "A>G",
         "rawType": "float64",
         "type": "float"
        },
        {
         "name": "A>T",
         "rawType": "float64",
         "type": "float"
        },
        {
         "name": "C>A",
         "rawType": "float64",
         "type": "float"
        },
        {
         "name": "C>G",
         "rawType": "float64",
         "type": "float"
        },
        {
         "name": "C>T",
         "rawType": "float64",
         "type": "float"
        },
        {
         "name": "G>A",
         "rawType": "float64",
         "type": "float"
        },
        {
         "name": "G>C",
         "rawType": "float64",
         "type": "float"
        },
        {
         "name": "G>T",
         "rawType": "float64",
         "type": "float"
        },
        {
         "name": "T>A",
         "rawType": "float64",
         "type": "float"
        },
        {
         "name": "T>C",
         "rawType": "float64",
         "type": "float"
        },
        {
         "name": "T>G",
         "rawType": "float64",
         "type": "float"
        }
       ],
       "conversionMethod": "pd.DataFrame",
       "ref": "4078bc70-971b-47c3-9e96-7f5ae1cf0e44",
       "rows": [
        [
         "Actinopteri",
         "0.014434897792257184",
         "0.14556073048179077",
         "0.013401873025091219",
         "0.02305287958106894",
         "0.0120464846200851",
         "0.0953080671996395",
         "0.4618472712166797",
         "0.04504774126116897",
         "0.017277858727158996",
         "0.01292799583819324",
         "0.14736186094034695",
         "0.011732339316519187"
        ],
        [
         "Amphibia",
         "0.013184578498302495",
         "0.10075338785341433",
         "0.019012347466531628",
         "0.04367842832121208",
         "0.0031862650938362116",
         "0.1504262925961147",
         "0.45725495182703335",
         "0.01804062486741495",
         "0.019421988982784397",
         "0.014542506913573573",
         "0.15099124217578538",
         "0.009507385403996553"
        ],
        [
         "Aves",
         "0.008065780394057401",
         "0.07029992801224937",
         "0.00704560585651753",
         "0.021095480416910492",
         "0.004003623335074349",
         "0.0850396033780828",
         "0.46414987837192934",
         "0.024108855840147346",
         "0.006847963867561272",
         "0.008435676365854367",
         "0.2976586632790994",
         "0.003248940882516067"
        ],
        [
         "Lepidosauria",
         "0.011596059545295441",
         "0.07353526206681389",
         "0.01219713877862909",
         "0.03310297834592803",
         "0.0049628367596810845",
         "0.09493558107757238",
         "0.534351198213968",
         "0.026589835254762505",
         "0.026500586069769634",
         "0.01317328709879147",
         "0.1598942348129236",
         "0.009161001975864495"
        ],
        [
         "Mammalia",
         "0.006994784439205773",
         "0.06761308619622233",
         "0.012739568380234994",
         "0.024509703865824174",
         "0.005047908393632459",
         "0.12443588529987931",
         "0.480826237955543",
         "0.021097654709746637",
         "0.01901097617661419",
         "0.014834349411334347",
         "0.2164091030895681",
         "0.00648074208219435"
        ]
       ],
       "shape": {
        "columns": 12,
        "rows": 5
       }
      },
      "text/html": [
       "<div>\n",
       "<style scoped>\n",
       "    .dataframe tbody tr th:only-of-type {\n",
       "        vertical-align: middle;\n",
       "    }\n",
       "\n",
       "    .dataframe tbody tr th {\n",
       "        vertical-align: top;\n",
       "    }\n",
       "\n",
       "    .dataframe thead th {\n",
       "        text-align: right;\n",
       "    }\n",
       "</style>\n",
       "<table border=\"1\" class=\"dataframe\">\n",
       "  <thead>\n",
       "    <tr style=\"text-align: right;\">\n",
       "      <th>Mut</th>\n",
       "      <th>A&gt;C</th>\n",
       "      <th>A&gt;G</th>\n",
       "      <th>A&gt;T</th>\n",
       "      <th>C&gt;A</th>\n",
       "      <th>C&gt;G</th>\n",
       "      <th>C&gt;T</th>\n",
       "      <th>G&gt;A</th>\n",
       "      <th>G&gt;C</th>\n",
       "      <th>G&gt;T</th>\n",
       "      <th>T&gt;A</th>\n",
       "      <th>T&gt;C</th>\n",
       "      <th>T&gt;G</th>\n",
       "    </tr>\n",
       "    <tr>\n",
       "      <th>Class</th>\n",
       "      <th></th>\n",
       "      <th></th>\n",
       "      <th></th>\n",
       "      <th></th>\n",
       "      <th></th>\n",
       "      <th></th>\n",
       "      <th></th>\n",
       "      <th></th>\n",
       "      <th></th>\n",
       "      <th></th>\n",
       "      <th></th>\n",
       "      <th></th>\n",
       "    </tr>\n",
       "  </thead>\n",
       "  <tbody>\n",
       "    <tr>\n",
       "      <th>Actinopteri</th>\n",
       "      <td>0.014435</td>\n",
       "      <td>0.145561</td>\n",
       "      <td>0.013402</td>\n",
       "      <td>0.023053</td>\n",
       "      <td>0.012046</td>\n",
       "      <td>0.095308</td>\n",
       "      <td>0.461847</td>\n",
       "      <td>0.045048</td>\n",
       "      <td>0.017278</td>\n",
       "      <td>0.012928</td>\n",
       "      <td>0.147362</td>\n",
       "      <td>0.011732</td>\n",
       "    </tr>\n",
       "    <tr>\n",
       "      <th>Amphibia</th>\n",
       "      <td>0.013185</td>\n",
       "      <td>0.100753</td>\n",
       "      <td>0.019012</td>\n",
       "      <td>0.043678</td>\n",
       "      <td>0.003186</td>\n",
       "      <td>0.150426</td>\n",
       "      <td>0.457255</td>\n",
       "      <td>0.018041</td>\n",
       "      <td>0.019422</td>\n",
       "      <td>0.014543</td>\n",
       "      <td>0.150991</td>\n",
       "      <td>0.009507</td>\n",
       "    </tr>\n",
       "    <tr>\n",
       "      <th>Aves</th>\n",
       "      <td>0.008066</td>\n",
       "      <td>0.070300</td>\n",
       "      <td>0.007046</td>\n",
       "      <td>0.021095</td>\n",
       "      <td>0.004004</td>\n",
       "      <td>0.085040</td>\n",
       "      <td>0.464150</td>\n",
       "      <td>0.024109</td>\n",
       "      <td>0.006848</td>\n",
       "      <td>0.008436</td>\n",
       "      <td>0.297659</td>\n",
       "      <td>0.003249</td>\n",
       "    </tr>\n",
       "    <tr>\n",
       "      <th>Lepidosauria</th>\n",
       "      <td>0.011596</td>\n",
       "      <td>0.073535</td>\n",
       "      <td>0.012197</td>\n",
       "      <td>0.033103</td>\n",
       "      <td>0.004963</td>\n",
       "      <td>0.094936</td>\n",
       "      <td>0.534351</td>\n",
       "      <td>0.026590</td>\n",
       "      <td>0.026501</td>\n",
       "      <td>0.013173</td>\n",
       "      <td>0.159894</td>\n",
       "      <td>0.009161</td>\n",
       "    </tr>\n",
       "    <tr>\n",
       "      <th>Mammalia</th>\n",
       "      <td>0.006995</td>\n",
       "      <td>0.067613</td>\n",
       "      <td>0.012740</td>\n",
       "      <td>0.024510</td>\n",
       "      <td>0.005048</td>\n",
       "      <td>0.124436</td>\n",
       "      <td>0.480826</td>\n",
       "      <td>0.021098</td>\n",
       "      <td>0.019011</td>\n",
       "      <td>0.014834</td>\n",
       "      <td>0.216409</td>\n",
       "      <td>0.006481</td>\n",
       "    </tr>\n",
       "  </tbody>\n",
       "</table>\n",
       "</div>"
      ],
      "text/plain": [
       "Mut                A>C       A>G       A>T       C>A       C>G       C>T  \\\n",
       "Class                                                                      \n",
       "Actinopteri   0.014435  0.145561  0.013402  0.023053  0.012046  0.095308   \n",
       "Amphibia      0.013185  0.100753  0.019012  0.043678  0.003186  0.150426   \n",
       "Aves          0.008066  0.070300  0.007046  0.021095  0.004004  0.085040   \n",
       "Lepidosauria  0.011596  0.073535  0.012197  0.033103  0.004963  0.094936   \n",
       "Mammalia      0.006995  0.067613  0.012740  0.024510  0.005048  0.124436   \n",
       "\n",
       "Mut                G>A       G>C       G>T       T>A       T>C       T>G  \n",
       "Class                                                                     \n",
       "Actinopteri   0.461847  0.045048  0.017278  0.012928  0.147362  0.011732  \n",
       "Amphibia      0.457255  0.018041  0.019422  0.014543  0.150991  0.009507  \n",
       "Aves          0.464150  0.024109  0.006848  0.008436  0.297659  0.003249  \n",
       "Lepidosauria  0.534351  0.026590  0.026501  0.013173  0.159894  0.009161  \n",
       "Mammalia      0.480826  0.021098  0.019011  0.014834  0.216409  0.006481  "
      ]
     },
     "execution_count": 5,
     "metadata": {},
     "output_type": "execute_result"
    }
   ],
   "source": [
    "classes_spectra = ms12[ms12.Gene == 'Cytb'].groupby(['Class', 'Mut']).MutSpec.mean().unstack()\n",
    "classes_spectra"
   ]
  },
  {
   "cell_type": "code",
   "execution_count": 6,
   "metadata": {},
   "outputs": [
    {
     "data": {
      "image/png": "[encoded data removed]",
      "text/plain": [
       "<Figure size 600x500 with 1 Axes>"
      ]
     },
     "metadata": {},
     "output_type": "display_data"
    }
   ],
   "source": [
    "classes_spectra.plot(kind='bar', stacked=True, figsize=(6, 5), edgecolor='black')\n",
    "plt.legend(title='Mutation type', bbox_to_anchor=(1, 1))\n",
    "plt.ylabel('Mean mutation spectrum')\n",
    "plt.show()"
   ]
  },
  {
   "cell_type": "code",
   "execution_count": 7,
   "metadata": {},
   "outputs": [
    {
     "name": "stderr",
     "output_type": "stream",
     "text": [
      "/tmp/ipykernel_18980/4144104991.py:21: ComplexWarning: Casting complex values to real discards the imaginary part\n",
      "  eq_prob_cdn = get_equilibrium_probabilities(M).astype(float)\n",
      "/tmp/ipykernel_18980/4144104991.py:21: ComplexWarning: Casting complex values to real discards the imaginary part\n",
      "  eq_prob_cdn = get_equilibrium_probabilities(M).astype(float)\n",
      "/tmp/ipykernel_18980/4144104991.py:21: ComplexWarning: Casting complex values to real discards the imaginary part\n",
      "  eq_prob_cdn = get_equilibrium_probabilities(M).astype(float)\n",
      "/tmp/ipykernel_18980/4144104991.py:21: ComplexWarning: Casting complex values to real discards the imaginary part\n",
      "  eq_prob_cdn = get_equilibrium_probabilities(M).astype(float)\n"
     ]
    }
   ],
   "source": [
    "data_nucl = []\n",
    "data_cdn = []\n",
    "\n",
    "for _cls in classes_spectra.index:\n",
    "    mean_cls_ms12 = classes_spectra.loc[_cls].to_dict()\n",
    "\n",
    "    df_changes = collect_possible_changes()\n",
    "\n",
    "    M = nuc_spectrum_to_matrix(mean_cls_ms12)\n",
    "    eq_prob_nuc = get_equilibrium_probabilities(M).astype(float)\n",
    "    nucl_eq = pd.Series(dict(zip(alphabet, eq_prob_nuc)))\n",
    "    nucl_eq.name = 'freq'\n",
    "    nucl_eq.index.name = 'nucl'\n",
    "    nucl_eq = nucl_eq.reset_index().assign(cls=_cls)\n",
    "    data_nucl.append(nucl_eq)\n",
    "\n",
    "\n",
    "    df_changes['rate'] = df_changes['sbs'].map(mean_cls_ms12)\n",
    "    cdn_sbs = df_changes.groupby(['cdn1', 'cdn2'])['rate'].sum()\n",
    "    M = cdn_spectrum_to_matrix(cdn_sbs)\n",
    "    eq_prob_cdn = get_equilibrium_probabilities(M).astype(float)\n",
    "\n",
    "    eq_freqs = pd.Series(dict(zip(possible_codons, eq_prob_cdn)))\n",
    "    eq_freqs.name = 'freq'\n",
    "    eq_freqs.index.name = 'cdn'\n",
    "    eq_freqs = eq_freqs.reset_index().assign(cls=_cls)\n",
    "    eq_freqs['aa'] = eq_freqs['cdn'].map(coda.translate_codon).map(amino_acid_codes)\n",
    "    data_cdn.append(eq_freqs)"
   ]
  },
  {
   "cell_type": "code",
   "execution_count": 8,
   "metadata": {},
   "outputs": [],
   "source": [
    "df_cdn = pd.concat(data_cdn)\n",
    "df_nucl = pd.concat(data_nucl)\n",
    "\n",
    "df_aa_wide = df_cdn[df_cdn.aa !='*'].groupby(['cls', 'aa'])['freq'].sum().unstack()\n",
    "df_aa_wide = (df_aa_wide.T / df_aa_wide.sum(1)).T\n",
    "df_aa = df_aa_wide.stack().rename('freq').reset_index()\n",
    "\n",
    "df_nucl.to_csv('./data/nucl_eq_freqs_cls.csv', index=False)\n",
    "df_cdn.to_csv('./data/cdn_eq_freqs_cls.csv', index=False)\n",
    "df_aa.to_csv('./data/aa_eq_freqs_cls.csv', index=False)"
   ]
  },
  {
   "cell_type": "code",
   "execution_count": 9,
   "metadata": {},
   "outputs": [
    {
     "data": {
      "application/vnd.microsoft.datawrangler.viewer.v0+json": {
       "columns": [
        {
         "name": "index",
         "rawType": "int64",
         "type": "integer"
        },
        {
         "name": "cls",
         "rawType": "object",
         "type": "string"
        },
        {
         "name": "aa",
         "rawType": "object",
         "type": "string"
        },
        {
         "name": "freq",
         "rawType": "float64",
         "type": "float"
        }
       ],
       "conversionMethod": "pd.DataFrame",
       "ref": "47cef2c6-0091-4995-9dca-a0cd09824805",
       "rows": [
        [
         "0",
         "Actinopteri",
         "Ala",
         "0.03733890036383009"
        ],
        [
         "1",
         "Actinopteri",
         "Arg",
         "0.037338900363830155"
        ],
        [
         "2",
         "Actinopteri",
         "Asn",
         "0.07030802778949753"
        ],
        [
         "3",
         "Actinopteri",
         "Asp",
         "0.021972599946252926"
        ],
        [
         "4",
         "Actinopteri",
         "Cys",
         "0.013541054865886677"
        ],
        [
         "5",
         "Actinopteri",
         "Gln",
         "0.055142605807151815"
        ],
        [
         "6",
         "Actinopteri",
         "Glu",
         "0.018833205794675355"
        ],
        [
         "7",
         "Actinopteri",
         "Gly",
         "0.012752592743951933"
        ],
        [
         "8",
         "Actinopteri",
         "His",
         "0.06433458172782364"
        ],
        [
         "9",
         "Actinopteri",
         "Ile",
         "0.04332873051612757"
        ],
        [
         "10",
         "Actinopteri",
         "Leu",
         "0.09651726010422572"
        ],
        [
         "11",
         "Actinopteri",
         "Lys",
         "0.060262579740963565"
        ],
        [
         "12",
         "Actinopteri",
         "Met",
         "0.0371380219285986"
        ],
        [
         "13",
         "Actinopteri",
         "Phe",
         "0.02670219812963716"
        ],
        [
         "14",
         "Actinopteri",
         "Pro",
         "0.10932627649708547"
        ],
        [
         "15",
         "Actinopteri",
         "Ser",
         "0.09560281009845802"
        ],
        [
         "16",
         "Actinopteri",
         "Thr",
         "0.11947718753497553"
        ],
        [
         "17",
         "Actinopteri",
         "Trp",
         "0.011606340332506935"
        ],
        [
         "18",
         "Actinopteri",
         "Tyr",
         "0.04332873051612757"
        ],
        [
         "19",
         "Actinopteri",
         "Val",
         "0.025147395198393627"
        ],
        [
         "20",
         "Amphibia",
         "Ala",
         "0.023086171751711317"
        ],
        [
         "21",
         "Amphibia",
         "Arg",
         "0.023086171751711355"
        ],
        [
         "22",
         "Amphibia",
         "Asn",
         "0.09326119917489692"
        ],
        [
         "23",
         "Amphibia",
         "Asp",
         "0.020410911264566085"
        ],
        [
         "24",
         "Amphibia",
         "Cys",
         "0.012374712726834719"
        ],
        [
         "25",
         "Amphibia",
         "Gln",
         "0.05411295625717806"
        ],
        [
         "26",
         "Amphibia",
         "Glu",
         "0.021499937115253883"
        ],
        [
         "27",
         "Amphibia",
         "Gly",
         "0.009172502765045356"
        ],
        [
         "28",
         "Amphibia",
         "His",
         "0.051371999020638125"
        ],
        [
         "29",
         "Amphibia",
         "Ile",
         "0.05654233333290617"
        ],
        [
         "30",
         "Amphibia",
         "Leu",
         "0.10006282499354323"
        ],
        [
         "31",
         "Amphibia",
         "Lys",
         "0.09823715813386438"
        ],
        [
         "32",
         "Amphibia",
         "Met",
         "0.05955915418228411"
        ],
        [
         "33",
         "Amphibia",
         "Phe",
         "0.034280445533773844"
        ],
        [
         "34",
         "Amphibia",
         "Pro",
         "0.05810533284117025"
        ],
        [
         "35",
         "Amphibia",
         "Ser",
         "0.08436425473101418"
        ],
        [
         "36",
         "Amphibia",
         "Thr",
         "0.10548495527781616"
        ],
        [
         "37",
         "Amphibia",
         "Trp",
         "0.013034966543025436"
        ],
        [
         "38",
         "Amphibia",
         "Tyr",
         "0.05654233333290617"
        ],
        [
         "39",
         "Amphibia",
         "Val",
         "0.025409679269860156"
        ],
        [
         "40",
         "Aves",
         "Ala",
         "0.02556223448778202"
        ],
        [
         "41",
         "Aves",
         "Arg",
         "0.025562234487781957"
        ],
        [
         "42",
         "Aves",
         "Asn",
         "0.10994673454634557"
        ],
        [
         "43",
         "Aves",
         "Asp",
         "0.016375898844634574"
        ],
        [
         "44",
         "Aves",
         "Cys",
         "0.0035145743697576584"
        ],
        [
         "45",
         "Aves",
         "Gln",
         "0.09621510122254408"
        ],
        [
         "46",
         "Aves",
         "Glu",
         "0.0208944228864327"
        ],
        [
         "47",
         "Aves",
         "Gly",
         "0.005551188228493303"
        ],
        [
         "48",
         "Aves",
         "His",
         "0.0754081016504043"
        ],
        [
         "49",
         "Aves",
         "Ile",
         "0.023596626905260893"
        ]
       ],
       "shape": {
        "columns": 3,
        "rows": 100
       }
      },
      "text/html": [
       "<div>\n",
       "<style scoped>\n",
       "    .dataframe tbody tr th:only-of-type {\n",
       "        vertical-align: middle;\n",
       "    }\n",
       "\n",
       "    .dataframe tbody tr th {\n",
       "        vertical-align: top;\n",
       "    }\n",
       "\n",
       "    .dataframe thead th {\n",
       "        text-align: right;\n",
       "    }\n",
       "</style>\n",
       "<table border=\"1\" class=\"dataframe\">\n",
       "  <thead>\n",
       "    <tr style=\"text-align: right;\">\n",
       "      <th></th>\n",
       "      <th>cls</th>\n",
       "      <th>aa</th>\n",
       "      <th>freq</th>\n",
       "    </tr>\n",
       "  </thead>\n",
       "  <tbody>\n",
       "    <tr>\n",
       "      <th>0</th>\n",
       "      <td>Actinopteri</td>\n",
       "      <td>Ala</td>\n",
       "      <td>0.037339</td>\n",
       "    </tr>\n",
       "    <tr>\n",
       "      <th>1</th>\n",
       "      <td>Actinopteri</td>\n",
       "      <td>Arg</td>\n",
       "      <td>0.037339</td>\n",
       "    </tr>\n",
       "    <tr>\n",
       "      <th>2</th>\n",
       "      <td>Actinopteri</td>\n",
       "      <td>Asn</td>\n",
       "      <td>0.070308</td>\n",
       "    </tr>\n",
       "    <tr>\n",
       "      <th>3</th>\n",
       "      <td>Actinopteri</td>\n",
       "      <td>Asp</td>\n",
       "      <td>0.021973</td>\n",
       "    </tr>\n",
       "    <tr>\n",
       "      <th>4</th>\n",
       "      <td>Actinopteri</td>\n",
       "      <td>Cys</td>\n",
       "      <td>0.013541</td>\n",
       "    </tr>\n",
       "    <tr>\n",
       "      <th>...</th>\n",
       "      <td>...</td>\n",
       "      <td>...</td>\n",
       "      <td>...</td>\n",
       "    </tr>\n",
       "    <tr>\n",
       "      <th>95</th>\n",
       "      <td>Mammalia</td>\n",
       "      <td>Ser</td>\n",
       "      <td>0.068543</td>\n",
       "    </tr>\n",
       "    <tr>\n",
       "      <th>96</th>\n",
       "      <td>Mammalia</td>\n",
       "      <td>Thr</td>\n",
       "      <td>0.142229</td>\n",
       "    </tr>\n",
       "    <tr>\n",
       "      <th>97</th>\n",
       "      <td>Mammalia</td>\n",
       "      <td>Trp</td>\n",
       "      <td>0.006849</td>\n",
       "    </tr>\n",
       "    <tr>\n",
       "      <th>98</th>\n",
       "      <td>Mammalia</td>\n",
       "      <td>Tyr</td>\n",
       "      <td>0.041229</td>\n",
       "    </tr>\n",
       "    <tr>\n",
       "      <th>99</th>\n",
       "      <td>Mammalia</td>\n",
       "      <td>Val</td>\n",
       "      <td>0.012627</td>\n",
       "    </tr>\n",
       "  </tbody>\n",
       "</table>\n",
       "<p>100 rows × 3 columns</p>\n",
       "</div>"
      ],
      "text/plain": [
       "            cls   aa      freq\n",
       "0   Actinopteri  Ala  0.037339\n",
       "1   Actinopteri  Arg  0.037339\n",
       "2   Actinopteri  Asn  0.070308\n",
       "3   Actinopteri  Asp  0.021973\n",
       "4   Actinopteri  Cys  0.013541\n",
       "..          ...  ...       ...\n",
       "95     Mammalia  Ser  0.068543\n",
       "96     Mammalia  Thr  0.142229\n",
       "97     Mammalia  Trp  0.006849\n",
       "98     Mammalia  Tyr  0.041229\n",
       "99     Mammalia  Val  0.012627\n",
       "\n",
       "[100 rows x 3 columns]"
      ]
     },
     "execution_count": 9,
     "metadata": {},
     "output_type": "execute_result"
    }
   ],
   "source": [
    "df_aa"
   ]
  },
  {
   "cell_type": "code",
   "execution_count": 10,
   "metadata": {},
   "outputs": [
    {
     "data": {
      "image/png": "[encoded data removed]",
      "text/plain": [
       "<seaborn._core.plot.Plot at 0x7697ef5a91b0>"
      ]
     },
     "execution_count": 10,
     "metadata": {
      "image/png": {
       "height": 313.22499999999997,
       "width": 541.875
      }
     },
     "output_type": "execute_result"
    }
   ],
   "source": [
    "order=['Actinopteri', 'Amphibia', 'Lepidosauria', 'Mammalia', 'Aves']\n",
    "\n",
    "so.Plot(df_nucl.set_index('cls').loc[order].reset_index(), \n",
    "        y=\"cls\", x='freq', color=\"nucl\"\n",
    ").add(so.Bar(), so.Stack()).layout(size=(6,4)).save('figures/nuc_eq_freqs_cls.pdf')"
   ]
  },
  {
   "cell_type": "code",
   "execution_count": 26,
   "metadata": {},
   "outputs": [
    {
     "data": {
      "image/png": "[encoded data removed]",
      "text/plain": [
       "<Figure size 1600x400 with 2 Axes>"
      ]
     },
     "metadata": {},
     "output_type": "display_data"
    }
   ],
   "source": [
    "_ = df_aa.pivot(index='cls', columns='aa', values='freq').loc[order]*100\n",
    "\n",
    "plt.figure(figsize=(16, 4))\n",
    "sns.heatmap(_.loc[:,_.mean(0).sort_values(ascending=False).index], \n",
    "            cmap='coolwarm', annot=True, cbar_kws={'label': 'Equilibrium frequency (%)'})\n",
    "plt.ylabel('')\n",
    "plt.xlabel('')\n",
    "plt.savefig('figures/aa_eq_freqs_cls_heatmap.pdf', bbox_inches='tight')\n",
    "plt.show()"
   ]
  },
  {
   "cell_type": "code",
   "execution_count": null,
   "metadata": {},
   "outputs": [],
   "source": []
  },
  {
   "cell_type": "code",
   "execution_count": null,
   "metadata": {},
   "outputs": [],
   "source": []
  },
  {
   "cell_type": "code",
   "execution_count": null,
   "metadata": {},
   "outputs": [],
   "source": []
  },
  {
   "cell_type": "code",
   "execution_count": null,
   "metadata": {},
   "outputs": [],
   "source": []
  },
  {
   "cell_type": "markdown",
   "metadata": {},
   "source": [
    "## Collect aa-substitutions from dataset of MBE"
   ]
  },
  {
   "cell_type": "code",
   "execution_count": 79,
   "metadata": {},
   "outputs": [
    {
     "data": {
      "text/html": [
       "<div>\n",
       "<style scoped>\n",
       "    .dataframe tbody tr th:only-of-type {\n",
       "        vertical-align: middle;\n",
       "    }\n",
       "\n",
       "    .dataframe tbody tr th {\n",
       "        vertical-align: top;\n",
       "    }\n",
       "\n",
       "    .dataframe thead th {\n",
       "        text-align: right;\n",
       "    }\n",
       "</style>\n",
       "<table border=\"1\" class=\"dataframe\">\n",
       "  <thead>\n",
       "    <tr style=\"text-align: right;\">\n",
       "      <th></th>\n",
       "      <th>Mut</th>\n",
       "      <th>MutType</th>\n",
       "      <th>Site</th>\n",
       "      <th>PosInCodon</th>\n",
       "      <th>RefCodon</th>\n",
       "      <th>AltCodon</th>\n",
       "      <th>RefAa</th>\n",
       "      <th>AltAa</th>\n",
       "      <th>ProbaRef</th>\n",
       "      <th>ProbaMut</th>\n",
       "      <th>...</th>\n",
       "      <th>AltNode</th>\n",
       "      <th>species</th>\n",
       "      <th>gene</th>\n",
       "      <th>class</th>\n",
       "      <th>edge_nobs</th>\n",
       "      <th>species_nobs</th>\n",
       "      <th>species_n_ts</th>\n",
       "      <th>is_ts</th>\n",
       "      <th>ts_frac</th>\n",
       "      <th>sbs12</th>\n",
       "    </tr>\n",
       "  </thead>\n",
       "  <tbody>\n",
       "    <tr>\n",
       "      <th>0</th>\n",
       "      <td>A[C&gt;T]C</td>\n",
       "      <td>1</td>\n",
       "      <td>54</td>\n",
       "      <td>3</td>\n",
       "      <td>AAC</td>\n",
       "      <td>AAT</td>\n",
       "      <td>N</td>\n",
       "      <td>N</td>\n",
       "      <td>0.301658</td>\n",
       "      <td>0.301658</td>\n",
       "      <td>...</td>\n",
       "      <td>Node2</td>\n",
       "      <td>Pica_pica</td>\n",
       "      <td>ND2</td>\n",
       "      <td>Aves</td>\n",
       "      <td>2.888788</td>\n",
       "      <td>55.307859</td>\n",
       "      <td>33</td>\n",
       "      <td>True</td>\n",
       "      <td>0.934426</td>\n",
       "      <td>C&gt;T</td>\n",
       "    </tr>\n",
       "    <tr>\n",
       "      <th>1</th>\n",
       "      <td>A[T&gt;C]T</td>\n",
       "      <td>1</td>\n",
       "      <td>57</td>\n",
       "      <td>3</td>\n",
       "      <td>CAT</td>\n",
       "      <td>CAC</td>\n",
       "      <td>H</td>\n",
       "      <td>H</td>\n",
       "      <td>0.317493</td>\n",
       "      <td>0.317493</td>\n",
       "      <td>...</td>\n",
       "      <td>Node2</td>\n",
       "      <td>Pica_pica</td>\n",
       "      <td>ND2</td>\n",
       "      <td>Aves</td>\n",
       "      <td>2.888788</td>\n",
       "      <td>55.307859</td>\n",
       "      <td>33</td>\n",
       "      <td>True</td>\n",
       "      <td>0.934426</td>\n",
       "      <td>T&gt;C</td>\n",
       "    </tr>\n",
       "    <tr>\n",
       "      <th>2</th>\n",
       "      <td>T[T&gt;C]A</td>\n",
       "      <td>2</td>\n",
       "      <td>63</td>\n",
       "      <td>3</td>\n",
       "      <td>GTT</td>\n",
       "      <td>GTC</td>\n",
       "      <td>V</td>\n",
       "      <td>V</td>\n",
       "      <td>0.316240</td>\n",
       "      <td>0.316240</td>\n",
       "      <td>...</td>\n",
       "      <td>Node2</td>\n",
       "      <td>Pica_pica</td>\n",
       "      <td>ND2</td>\n",
       "      <td>Aves</td>\n",
       "      <td>2.888788</td>\n",
       "      <td>55.307859</td>\n",
       "      <td>33</td>\n",
       "      <td>True</td>\n",
       "      <td>0.934426</td>\n",
       "      <td>T&gt;C</td>\n",
       "    </tr>\n",
       "    <tr>\n",
       "      <th>3</th>\n",
       "      <td>C[C&gt;T]C</td>\n",
       "      <td>2</td>\n",
       "      <td>132</td>\n",
       "      <td>3</td>\n",
       "      <td>CCC</td>\n",
       "      <td>CCT</td>\n",
       "      <td>P</td>\n",
       "      <td>P</td>\n",
       "      <td>0.303806</td>\n",
       "      <td>0.303806</td>\n",
       "      <td>...</td>\n",
       "      <td>Node2</td>\n",
       "      <td>Pica_pica</td>\n",
       "      <td>ND2</td>\n",
       "      <td>Aves</td>\n",
       "      <td>2.888788</td>\n",
       "      <td>55.307859</td>\n",
       "      <td>33</td>\n",
       "      <td>True</td>\n",
       "      <td>0.934426</td>\n",
       "      <td>C&gt;T</td>\n",
       "    </tr>\n",
       "    <tr>\n",
       "      <th>4</th>\n",
       "      <td>T[T&gt;C]G</td>\n",
       "      <td>2</td>\n",
       "      <td>141</td>\n",
       "      <td>3</td>\n",
       "      <td>GTT</td>\n",
       "      <td>GTC</td>\n",
       "      <td>V</td>\n",
       "      <td>V</td>\n",
       "      <td>0.315447</td>\n",
       "      <td>0.315447</td>\n",
       "      <td>...</td>\n",
       "      <td>Node2</td>\n",
       "      <td>Pica_pica</td>\n",
       "      <td>ND2</td>\n",
       "      <td>Aves</td>\n",
       "      <td>2.888788</td>\n",
       "      <td>55.307859</td>\n",
       "      <td>33</td>\n",
       "      <td>True</td>\n",
       "      <td>0.934426</td>\n",
       "      <td>T&gt;C</td>\n",
       "    </tr>\n",
       "    <tr>\n",
       "      <th>...</th>\n",
       "      <td>...</td>\n",
       "      <td>...</td>\n",
       "      <td>...</td>\n",
       "      <td>...</td>\n",
       "      <td>...</td>\n",
       "      <td>...</td>\n",
       "      <td>...</td>\n",
       "      <td>...</td>\n",
       "      <td>...</td>\n",
       "      <td>...</td>\n",
       "      <td>...</td>\n",
       "      <td>...</td>\n",
       "      <td>...</td>\n",
       "      <td>...</td>\n",
       "      <td>...</td>\n",
       "      <td>...</td>\n",
       "      <td>...</td>\n",
       "      <td>...</td>\n",
       "      <td>...</td>\n",
       "      <td>...</td>\n",
       "      <td>...</td>\n",
       "    </tr>\n",
       "    <tr>\n",
       "      <th>202337</th>\n",
       "      <td>C[T&gt;A]C</td>\n",
       "      <td>2</td>\n",
       "      <td>327</td>\n",
       "      <td>3</td>\n",
       "      <td>ACT</td>\n",
       "      <td>ACA</td>\n",
       "      <td>T</td>\n",
       "      <td>T</td>\n",
       "      <td>0.600700</td>\n",
       "      <td>0.600700</td>\n",
       "      <td>...</td>\n",
       "      <td>RN_9</td>\n",
       "      <td>Cottus_gulosus</td>\n",
       "      <td>CO3</td>\n",
       "      <td>Actinopteri</td>\n",
       "      <td>0.904790</td>\n",
       "      <td>27.985789</td>\n",
       "      <td>22</td>\n",
       "      <td>False</td>\n",
       "      <td>0.764706</td>\n",
       "      <td>T&gt;A</td>\n",
       "    </tr>\n",
       "    <tr>\n",
       "      <th>202338</th>\n",
       "      <td>A[T&gt;C]C</td>\n",
       "      <td>1</td>\n",
       "      <td>375</td>\n",
       "      <td>3</td>\n",
       "      <td>GAT</td>\n",
       "      <td>GAC</td>\n",
       "      <td>D</td>\n",
       "      <td>D</td>\n",
       "      <td>0.997170</td>\n",
       "      <td>0.997130</td>\n",
       "      <td>...</td>\n",
       "      <td>Node8</td>\n",
       "      <td>Cottus_gulosus</td>\n",
       "      <td>CO3</td>\n",
       "      <td>Actinopteri</td>\n",
       "      <td>0.997130</td>\n",
       "      <td>27.985789</td>\n",
       "      <td>22</td>\n",
       "      <td>True</td>\n",
       "      <td>0.764706</td>\n",
       "      <td>T&gt;C</td>\n",
       "    </tr>\n",
       "    <tr>\n",
       "      <th>202339</th>\n",
       "      <td>A[G&gt;A]T</td>\n",
       "      <td>1</td>\n",
       "      <td>114</td>\n",
       "      <td>3</td>\n",
       "      <td>CAG</td>\n",
       "      <td>CAA</td>\n",
       "      <td>Q</td>\n",
       "      <td>Q</td>\n",
       "      <td>0.997950</td>\n",
       "      <td>0.997950</td>\n",
       "      <td>...</td>\n",
       "      <td>RN_4</td>\n",
       "      <td>Cottus_gulosus</td>\n",
       "      <td>CO3</td>\n",
       "      <td>Actinopteri</td>\n",
       "      <td>0.997950</td>\n",
       "      <td>27.985789</td>\n",
       "      <td>22</td>\n",
       "      <td>True</td>\n",
       "      <td>0.764706</td>\n",
       "      <td>G&gt;A</td>\n",
       "    </tr>\n",
       "    <tr>\n",
       "      <th>202340</th>\n",
       "      <td>C[A&gt;G]A</td>\n",
       "      <td>2</td>\n",
       "      <td>312</td>\n",
       "      <td>3</td>\n",
       "      <td>GCA</td>\n",
       "      <td>GCG</td>\n",
       "      <td>A</td>\n",
       "      <td>A</td>\n",
       "      <td>1.000000</td>\n",
       "      <td>1.000000</td>\n",
       "      <td>...</td>\n",
       "      <td>RN_3</td>\n",
       "      <td>Cottus_gulosus</td>\n",
       "      <td>CO3</td>\n",
       "      <td>Actinopteri</td>\n",
       "      <td>1.000000</td>\n",
       "      <td>27.985789</td>\n",
       "      <td>22</td>\n",
       "      <td>True</td>\n",
       "      <td>0.764706</td>\n",
       "      <td>A&gt;G</td>\n",
       "    </tr>\n",
       "    <tr>\n",
       "      <th>202341</th>\n",
       "      <td>C[C&gt;A]T</td>\n",
       "      <td>2</td>\n",
       "      <td>99</td>\n",
       "      <td>3</td>\n",
       "      <td>ACC</td>\n",
       "      <td>ACA</td>\n",
       "      <td>T</td>\n",
       "      <td>T</td>\n",
       "      <td>1.000000</td>\n",
       "      <td>1.000000</td>\n",
       "      <td>...</td>\n",
       "      <td>RN_11</td>\n",
       "      <td>Cottus_gulosus</td>\n",
       "      <td>CO3</td>\n",
       "      <td>Actinopteri</td>\n",
       "      <td>1.000000</td>\n",
       "      <td>27.985789</td>\n",
       "      <td>22</td>\n",
       "      <td>False</td>\n",
       "      <td>0.764706</td>\n",
       "      <td>C&gt;A</td>\n",
       "    </tr>\n",
       "  </tbody>\n",
       "</table>\n",
       "<p>202342 rows × 21 columns</p>\n",
       "</div>"
      ],
      "text/plain": [
       "            Mut  MutType  Site  PosInCodon RefCodon AltCodon RefAa AltAa  \\\n",
       "0       A[C>T]C        1    54           3      AAC      AAT     N     N   \n",
       "1       A[T>C]T        1    57           3      CAT      CAC     H     H   \n",
       "2       T[T>C]A        2    63           3      GTT      GTC     V     V   \n",
       "3       C[C>T]C        2   132           3      CCC      CCT     P     P   \n",
       "4       T[T>C]G        2   141           3      GTT      GTC     V     V   \n",
       "...         ...      ...   ...         ...      ...      ...   ...   ...   \n",
       "202337  C[T>A]C        2   327           3      ACT      ACA     T     T   \n",
       "202338  A[T>C]C        1   375           3      GAT      GAC     D     D   \n",
       "202339  A[G>A]T        1   114           3      CAG      CAA     Q     Q   \n",
       "202340  C[A>G]A        2   312           3      GCA      GCG     A     A   \n",
       "202341  C[C>A]T        2    99           3      ACC      ACA     T     T   \n",
       "\n",
       "        ProbaRef  ProbaMut  ... AltNode         species gene        class  \\\n",
       "0       0.301658  0.301658  ...   Node2       Pica_pica  ND2         Aves   \n",
       "1       0.317493  0.317493  ...   Node2       Pica_pica  ND2         Aves   \n",
       "2       0.316240  0.316240  ...   Node2       Pica_pica  ND2         Aves   \n",
       "3       0.303806  0.303806  ...   Node2       Pica_pica  ND2         Aves   \n",
       "4       0.315447  0.315447  ...   Node2       Pica_pica  ND2         Aves   \n",
       "...          ...       ...  ...     ...             ...  ...          ...   \n",
       "202337  0.600700  0.600700  ...    RN_9  Cottus_gulosus  CO3  Actinopteri   \n",
       "202338  0.997170  0.997130  ...   Node8  Cottus_gulosus  CO3  Actinopteri   \n",
       "202339  0.997950  0.997950  ...    RN_4  Cottus_gulosus  CO3  Actinopteri   \n",
       "202340  1.000000  1.000000  ...    RN_3  Cottus_gulosus  CO3  Actinopteri   \n",
       "202341  1.000000  1.000000  ...   RN_11  Cottus_gulosus  CO3  Actinopteri   \n",
       "\n",
       "       edge_nobs  species_nobs  species_n_ts  is_ts   ts_frac  sbs12  \n",
       "0       2.888788     55.307859            33   True  0.934426    C>T  \n",
       "1       2.888788     55.307859            33   True  0.934426    T>C  \n",
       "2       2.888788     55.307859            33   True  0.934426    T>C  \n",
       "3       2.888788     55.307859            33   True  0.934426    C>T  \n",
       "4       2.888788     55.307859            33   True  0.934426    T>C  \n",
       "...          ...           ...           ...    ...       ...    ...  \n",
       "202337  0.904790     27.985789            22  False  0.764706    T>A  \n",
       "202338  0.997130     27.985789            22   True  0.764706    T>C  \n",
       "202339  0.997950     27.985789            22   True  0.764706    G>A  \n",
       "202340  1.000000     27.985789            22   True  0.764706    A>G  \n",
       "202341  1.000000     27.985789            22  False  0.764706    C>A  \n",
       "\n",
       "[202342 rows x 21 columns]"
      ]
     },
     "execution_count": 79,
     "metadata": {},
     "output_type": "execute_result"
    }
   ],
   "source": [
    "obs = pd.read_csv('/home/kpotoh/192/1data_derivation/dataset/obs_muts.csv')\n",
    "obs['sbs12'] = obs.Mut.str.slice(2, 5)\n",
    "obs['aa_sbs'] = obs['RefAa'].map() + '>' + obs['AltAa']\n",
    "obs"
   ]
  },
  {
   "cell_type": "code",
   "execution_count": 85,
   "metadata": {},
   "outputs": [
    {
     "data": {
      "text/plain": [
       "2    107014\n",
       "1     95328\n",
       "Name: MutType, dtype: int64"
      ]
     },
     "execution_count": 85,
     "metadata": {},
     "output_type": "execute_result"
    }
   ],
   "source": [
    "obs.MutType.value_counts()"
   ]
  }
 ],
 "metadata": {
  "kernelspec": {
   "display_name": ".venv",
   "language": "python",
   "name": "python3"
  },
  "language_info": {
   "codemirror_mode": {
    "name": "ipython",
    "version": 3
   },
   "file_extension": ".py",
   "mimetype": "text/x-python",
   "name": "python",
   "nbconvert_exporter": "python",
   "pygments_lexer": "ipython3",
   "version": "3.10.12"
  }
 },
 "nbformat": 4,
 "nbformat_minor": 2
}
